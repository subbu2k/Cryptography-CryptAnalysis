{
 "cells": [
  {
   "cell_type": "code",
   "execution_count": 1,
   "metadata": {},
   "outputs": [
    {
     "name": "stdout",
     "output_type": "stream",
     "text": [
      "{'a': 0, 'b': 1, 'c': 2, 'd': 3, 'e': 4, 'f': 5, 'g': 6, 'h': 7, 'i': 8, 'j': 9, 'k': 10, 'l': 11, 'm': 12, 'n': 13, 'o': 14, 'p': 15, 'q': 16, 'r': 17, 's': 18, 't': 19, 'u': 20, 'v': 21, 'w': 22, 'x': 23, 'y': 24, 'z': 25}\n",
      "\n",
      "{0: 'a', 1: 'b', 2: 'c', 3: 'd', 4: 'e', 5: 'f', 6: 'g', 7: 'h', 8: 'i', 9: 'j', 10: 'k', 11: 'l', 12: 'm', 13: 'n', 14: 'o', 15: 'p', 16: 'q', 17: 'r', 18: 's', 19: 't', 20: 'u', 21: 'v', 22: 'w', 23: 'x', 24: 'y', 25: 'z'}\n",
      "Requirement already satisfied: wordninja in /opt/sagemath-9.1/local/lib/python3.7/site-packages (2.0.0)\n"
     ]
    }
   ],
   "source": [
    "#Utility functions and dictionaries\n",
    "\n",
    "toAscii = {}\n",
    "toAlphabet = {}\n",
    "\n",
    "string='abcdefghijklmnopqrstuvwxyz'\n",
    "for i in range(0,26):\n",
    "    toAscii[string[i]] = i\n",
    "    toAlphabet[i] = string[i]\n",
    "print(toAscii)\n",
    "print()\n",
    "print(toAlphabet)\n",
    "\n",
    "\n",
    "def preprocess(text):\n",
    "    text = list(text)\n",
    "    for i in range(len(text)):\n",
    "        if not text[i].isalpha():\n",
    "            text[i]=''\n",
    "    text = ''.join(text)\n",
    "    return text.lower()\n",
    "\n",
    "dict_list = []\n",
    "with open(\"words.txt\",mode='r') as f:\n",
    "    dict_list = f.readlines()\n",
    "word_list = [ i.replace(\"\\n\",\"\") for i in dict_list]\n",
    "\n",
    "def with_spaces(text):   #add spaces in spaceless sentece by looking up at dictionary\n",
    "    text = list(preprocess(text))\n",
    "    words = []\n",
    "    word_1 = []\n",
    "    word_2 = []\n",
    "    start=0\n",
    "    end=0\n",
    "    i=0\n",
    "    k=0\n",
    "    while i<len(text):\n",
    "        word_1.append(text[i])\n",
    "        if ''.join(word_1) in word_list:\n",
    "            end=i\n",
    "        if i==len(text)-1:\n",
    "            if(''.join(list(text[start:end+1]))==''): break\n",
    "            words.append(''.join(list(text[start:end+1])))\n",
    "            word_1 = []\n",
    "            i=end\n",
    "            start=i+1\n",
    "        i+=1\n",
    "    return \" \".join(words)\n",
    "\n",
    "! pip3 install wordninja\n",
    "import wordninja# NLP library which adds spaces to the sentence and outputs most probable sentence"
   ]
  },
  {
   "cell_type": "markdown",
   "metadata": {},
   "source": [
    "### Substitution cipher Encryption"
   ]
  },
  {
   "cell_type": "code",
   "execution_count": 2,
   "metadata": {},
   "outputs": [],
   "source": [
    "def SubstitutionCipherEncryption(PlainText,key):\n",
    "    if len(key)!=26:\n",
    "        return f'size of key is not 26'\n",
    "    alphabet = 'abcdefghijklmnopqrstuvwxyz'\n",
    "    key=key.lower()\n",
    "    key_dict = {}\n",
    "    for i in range(26):\n",
    "        key_dict[alphabet[i]] = key[i]\n",
    "    PText = preprocess(PlainText) #remove spaces and change case to lower\n",
    "    CText = []\n",
    "    for P in PText:\n",
    "        CText.append(key_dict[P])\n",
    "    CipherText = ''.join(CText)\n",
    "    return CipherText"
   ]
  },
  {
   "cell_type": "code",
   "execution_count": 3,
   "metadata": {},
   "outputs": [
    {
     "data": {
      "text/plain": [
       "'rmxibkgltizksbzhfyhgrgfgrlmxrksvirhznvgslwluvmxibkgrmtybdsrxsfmrghlukozrmgvcgzivivkozxvwdrgsxrksvigvcgzxxliwrmtglzurcvwhbhgvn'"
      ]
     },
     "execution_count": 3,
     "metadata": {},
     "output_type": "execute_result"
    }
   ],
   "source": [
    "PlainText = \"In cryptography, a substitution cipher is a method of encrypting by which units of plaintext are replaced with ciphertext, according to a fixed system\"\n",
    "key = \"ZYXWVUTSRQPONMLKJIHGFEDCBA\"\n",
    "SubstitutionCipherEncryption(PlainText,key)"
   ]
  },
  {
   "cell_type": "markdown",
   "metadata": {},
   "source": [
    "### Substitution cipher Decryption"
   ]
  },
  {
   "cell_type": "code",
   "execution_count": 4,
   "metadata": {},
   "outputs": [],
   "source": [
    "def SubstitutionCipherDecryption(CipherText,key):\n",
    "    if len(key)!=26:\n",
    "        return f'size of key is not 26'\n",
    "    alphabet = 'abcdefghijklmnopqrstuvwxyz'\n",
    "    key=key.lower()\n",
    "    key_dict = {}\n",
    "    for i in range(26):\n",
    "        key_dict[key[i]] = alphabet[i]\n",
    "    CText = preprocess(CipherText) #remove spaces and change case to lower\n",
    "    PText = []\n",
    "    for C in CText:\n",
    "        PText.append(key_dict[C])\n",
    "    PlainText = ''.join(PText)\n",
    "    return PlainText"
   ]
  },
  {
   "cell_type": "code",
   "execution_count": 5,
   "metadata": {},
   "outputs": [
    {
     "data": {
      "text/plain": [
       "'incryptographyasubstitutioncipherisamethodofencryptingbywhichunitsofplaintextarereplacedwithciphertextaccordingtoafixedsystem'"
      ]
     },
     "execution_count": 5,
     "metadata": {},
     "output_type": "execute_result"
    }
   ],
   "source": [
    "CipherText = 'rmxibkgltizksbzhfyhgrgfgrlmxrksvirhznvgslwluvmxibkgrmtybdsrxsfmrghlukozrmgvcgzivivkozxvwdrgsxrksvigvcgzxxliwrmtglzurcvwhbhgvn'\n",
    "key = \"ZYXWVUTSRQPONMLKJIHGFEDCBA\"\n",
    "SubstitutionCipherDecryption(CipherText,key)"
   ]
  },
  {
   "cell_type": "code",
   "execution_count": 6,
   "metadata": {},
   "outputs": [
    {
     "data": {
      "text/plain": [
       "'inc ry pt og rap hy asu bst itu tion cipher isa method of en crypt ing by which units of plain text are replaced with cipher text according to af ix eds y stem'"
      ]
     },
     "execution_count": 6,
     "metadata": {},
     "output_type": "execute_result"
    }
   ],
   "source": [
    "#adding spaces using self made function\n",
    "with_spaces(\"incryptographyasubstitutioncipherisamethodofencryptingbywhichunitsofplaintextarereplacedwithciphertextaccordingtoafixedsystem\")"
   ]
  },
  {
   "cell_type": "code",
   "execution_count": 7,
   "metadata": {},
   "outputs": [
    {
     "data": {
      "text/plain": [
       "'in cryptography a substitution cipher is a method of encrypting by which units of plaintext are replaced with ciphertext according to a fixed system'"
      ]
     },
     "execution_count": 7,
     "metadata": {},
     "output_type": "execute_result"
    }
   ],
   "source": [
    "#adding spaces using nlp library\n",
    "' '.join(wordninja.split('incryptographyasubstitutioncipherisamethodofencryptingbywhichunitsofplaintextarereplacedwithciphertextaccordingtoafixedsystem'))"
   ]
  },
  {
   "cell_type": "markdown",
   "metadata": {},
   "source": [
    "### Input/Output File read/write"
   ]
  },
  {
   "cell_type": "code",
   "execution_count": 8,
   "metadata": {},
   "outputs": [
    {
     "name": "stdout",
     "output_type": "stream",
     "text": [
      "Example  1 Encrypted text\n",
      " rmxibkgltizksbzhfyhgrgfgrlmxrksvirhznvgslwluvmxibkgrmtybdsrxsfmrghlukozrmgvcgzivivkozxvwdrgsxrksvigvcgzxxliwrmtglzurcvwhbhgvn\n",
      "\n",
      "Example  1 Decrypted text\n",
      " incryptographyasubstitutioncipherisamethodofencryptingbywhichunitsofplaintextarereplacedwithciphertextaccordingtoafixedsystem\n",
      "\n",
      "Example  1 Text after adding spaces\n",
      " in cryptography a substitution cipher is a method of encrypting by which units of plaintext are replaced with ciphertext according to a fixed system\n",
      "\n",
      "Example  2 Encrypted text\n",
      " eoydieqedsbqnhrmejosbushqnksibfjwbohjubatbsnhdieqedsbqtjttvctsjsvsbacytnkbnsibqdieqedsbqhqnksibtekbtbsabrboajofnoelby\n",
      "\n",
      "Example  2 Decrypted text\n",
      " anycharacterofplaintextfromthegivenfixedsetofcharactersissubstitutedbysomeothercharacterfromthesamesetdependingonakey\n",
      "\n",
      "Example  2 Text after adding spaces\n",
      " any character of plaintext from the given fixed set of characters is substituted by some other character from the same set depending on a key\n",
      "\n",
      "Example  3 Encrypted text\n",
      " cftfgevyqrtninfvugypgnvrgahslifygpcrgldnfgirzifvrgahslirtfiorayqrvjghrntnodrngtfvugypgnvaflcrhirzi\n",
      "\n",
      "Example  3 Decrypted text\n",
      " hidingsomedataisknownasencryptionwhenplaintextisencrypteditbecomesunreadableandisknownasciphertext\n",
      "\n",
      "Example  3 Text after adding spaces\n",
      " hiding some data is known as encryption when plaintext is encrypted it becomes unreadable and is known as ciphertext\n",
      "\n"
     ]
    }
   ],
   "source": [
    "with open(\"B180522CS_SINGAM_4_I.txt\",'r') as f1:\n",
    "    lines = f1.readlines()\n",
    "    file = [ line.replace(\"\\n\",\"\") for line in lines]\n",
    "\n",
    "with open(\"B180522CS_SINGAM_4_O.txt\",'w') as f2:\n",
    "    j=1\n",
    "    for i in range(0,len(file)-1,2):\n",
    "        ciphertext =file[i]\n",
    "        key = file[i+1]\n",
    "        encrypted_text = SubstitutionCipherEncryption(ciphertext,key)\n",
    "        print(\"Example \",j,'Encrypted text\\n',encrypted_text+'\\n')\n",
    "        f2.write(f\"Example {j} Encrypted text\\n\")\n",
    "        f2.write(encrypted_text+\"\\n\\n\")\n",
    "        decrypted_text = SubstitutionCipherDecryption(encrypted_text,key)\n",
    "        print(\"Example \",j,'Decrypted text\\n',decrypted_text+'\\n')\n",
    "        f2.write(f\"Example {j} Decrypted text\\n\")\n",
    "        f2.write(decrypted_text+\"\\n\\n\")\n",
    "        spaces = ' '.join(wordninja.split(decrypted_text))\n",
    "        print(\"Example \",j,'Text after adding spaces\\n',spaces+'\\n')\n",
    "        f2.write(f\"Example {j} Text after adding spaces\\n\")\n",
    "        f2.write(spaces+\"\\n\\n\")\n",
    "        j+=1"
   ]
  },
  {
   "cell_type": "markdown",
   "metadata": {},
   "source": [
    "# Cryptanalysis"
   ]
  },
  {
   "cell_type": "markdown",
   "metadata": {},
   "source": [
    "## Known Plain text attack"
   ]
  },
  {
   "cell_type": "markdown",
   "metadata": {},
   "source": [
    "Eve tried to get hold of alice computer and encrypted the plaintext \"ABCDEFGHIJKLMNOPQRSTUVWXYZ\". The obtained ciphertext is \"ZYXWVUTSRQPONMLKJIHGFEDCBA\" which is key"
   ]
  },
  {
   "cell_type": "code",
   "execution_count": 9,
   "metadata": {},
   "outputs": [
    {
     "data": {
      "text/plain": [
       "'incryptographyasubstitutioncipherisamethodofencryptingbywhichunitsofplaintextarereplacedwithciphertextaccordingtoafixedsystem'"
      ]
     },
     "execution_count": 9,
     "metadata": {},
     "output_type": "execute_result"
    }
   ],
   "source": [
    "SubstitutionCipherDecryption('rmxibkgltizksbzhfyhgrgfgrlmxrksvirhznvgslwluvmxibkgrmtybdsrxsfmrghlukozrmgvcgzivivkozxvwdrgsxrksvigvcgzxxliwrmtglzurcvwhbhgvn',\"ZYXWVUTSRQPONMLKJIHGFEDCBA\")"
   ]
  },
  {
   "cell_type": "markdown",
   "metadata": {},
   "source": [
    "## Statistical attack"
   ]
  },
  {
   "cell_type": "code",
   "execution_count": 10,
   "metadata": {},
   "outputs": [
    {
     "data": {
      "text/plain": [
       "'In cryptography, a substitution cipher is a method of encrypting by which units of plaintext are replaced with ciphertext, according to a fixed system; the units may be single letters (the most common), pairs of letters, triplets of letters, mixtures of the above, and so forth. The receiver deciphers the text by performing the inverse substitution.Substitution ciphers can be compared with transposition ciphers. In a transposition cipher, the units of the plaintext are rearranged in a different and usually quite complex order, but the units themselves are left unchanged. By contrast, in a substitution cipher, the units of the plaintext are retained in the same sequence in the ciphertext, but the units themselves are altered.There are a number of different types of substitution cipher. If the cipher operates on single letters, it is termed a simple substitution cipher; a cipher that operates on larger groups of letters is termed polygraphic. A monoalphabetic cipher uses fixed substitution over the entire message, whereas a polyalphabetic cipher uses a number of substitutions at different positions in the message, where a unit from the plaintext is mapped to one of several possibilities in the ciphertext and vice versa.Substitution of single letters separately—simple substitution—can be demonstrated by writing out the alphabet in some order to represent the substitution. This is termed a substitution alphabet. The cipher alphabet may be shifted or reversed (creating the Caesar and Atbash ciphers, respectively) or scrambled in a more complex fashion, in which case it is called a mixed alphabet or deranged alphabet. Traditionally, mixed alphabets may be created by first writing out a keyword, removing repeated letters in it, then writing all the remaining letters in the alphabet in the usual order.Traditionally, the ciphertext is written out in blocks of fixed length, omitting punctuation and spaces; this is done to help avoid transmission errors and to disguise word boundaries from the plaintext. These blocks are called groups, and sometimes a group count (i.e., the number of groups) is given as an additional check. Five-letter groups are traditional, dating from when messages used to be transmitted by telegraph:Although the traditional keyword method for creating a mixed substitution alphabet is simple, a serious disadvantage is that the last letters of the alphabet (which are mostly low frequency) tend to stay at the end. A stronger way of constructing a mixed alphabet is try alphabet using the keyword, but this is not often done.'"
      ]
     },
     "execution_count": 10,
     "metadata": {},
     "output_type": "execute_result"
    }
   ],
   "source": [
    "plaintext=\"In cryptography, a substitution cipher is a method of encrypting by which units of plaintext are replaced with ciphertext, according to a fixed system; the units may be single letters (the most common), pairs of letters, triplets of letters, mixtures of the above, and so forth. The receiver deciphers the text by performing the inverse substitution.Substitution ciphers can be compared with transposition ciphers. In a transposition cipher, the units of the plaintext are rearranged in a different and usually quite complex order, but the units themselves are left unchanged. By contrast, in a substitution cipher, the units of the plaintext are retained in the same sequence in the ciphertext, but the units themselves are altered.There are a number of different types of substitution cipher. If the cipher operates on single letters, it is termed a simple substitution cipher; a cipher that operates on larger groups of letters is termed polygraphic. A monoalphabetic cipher uses fixed substitution over the entire message, whereas a polyalphabetic cipher uses a number of substitutions at different positions in the message, where a unit from the plaintext is mapped to one of several possibilities in the ciphertext and vice versa.Substitution of single letters separately—simple substitution—can be demonstrated by writing out the alphabet in some order to represent the substitution. This is termed a substitution alphabet. The cipher alphabet may be shifted or reversed (creating the Caesar and Atbash ciphers, respectively) or scrambled in a more complex fashion, in which case it is called a mixed alphabet or deranged alphabet. Traditionally, mixed alphabets may be created by first writing out a keyword, removing repeated letters in it, then writing all the remaining letters in the alphabet in the usual order.Traditionally, the ciphertext is written out in blocks of fixed length, omitting punctuation and spaces; this is done to help avoid transmission errors and to disguise word boundaries from the plaintext. These blocks are called groups, and sometimes a group count (i.e., the number of groups) is given as an additional check. Five-letter groups are traditional, dating from when messages used to be transmitted by telegraph:Although the traditional keyword method for creating a mixed substitution alphabet is simple, a serious disadvantage is that the last letters of the alphabet (which are mostly low frequency) tend to stay at the end. A stronger way of constructing a mixed alphabet is try alphabet using the keyword, but this is not often done.\"\n",
    "plaintext"
   ]
  },
  {
   "cell_type": "code",
   "execution_count": 11,
   "metadata": {},
   "outputs": [],
   "source": [
    "key=\"NOATRBECXFUDQGYLKHVIJMPZSW\"\n",
    "ciphertext=SubstitutionCipherEncryption(plaintext,key)"
   ]
  },
  {
   "cell_type": "code",
   "execution_count": 12,
   "metadata": {},
   "outputs": [],
   "source": [
    "real_freq_dict = {'e':12.02,'t':9.10,'a':8.12,'o':7.68,'i':7.31,'n':6.95,'s':6.28,'r':6.02,'h':5.92,'d':4.32,'l':3.98,'u':2.88,\n",
    "             'c':2.71,'m':2.61,'f':2.30,'y':2.11,'w':2.09,'g':2.03,'p':1.82,'b':1.49,'v':1.11,'k':0.69,'x':0.17,'q':0.11,\n",
    "             'j':0.10,'z':0.07}\n",
    "real_freq_list = list('etaoinsrhdlucmfywgpbvkxqjz')"
   ]
  },
  {
   "cell_type": "code",
   "execution_count": 13,
   "metadata": {},
   "outputs": [],
   "source": [
    "from collections import defaultdict\n",
    "def Frequencies(CipherText): #to get frequencies of each letter in a text\n",
    "    freq = defaultdict(lambda :0)\n",
    "    for letter in CipherText:\n",
    "        freq[letter] += 1\n",
    "    total = sum(freq.values())\n",
    "    for i in freq.keys():\n",
    "        freq[i] = float(freq[i]/total)\n",
    "    for i in 'abcdefghijklmnopqrstuvwxyz':\n",
    "        if i not in freq.keys():\n",
    "            freq[i]=0\n",
    "    freq = sorted(freq.items(),reverse=True,key=lambda i:i[1])\n",
    "    return freq"
   ]
  },
  {
   "cell_type": "code",
   "execution_count": 14,
   "metadata": {},
   "outputs": [
    {
     "data": {
      "text/plain": [
       "[('r', 0.13008514664143803),\n",
       " ('i', 0.1173131504257332),\n",
       " ('x', 0.08609271523178808),\n",
       " ('v', 0.07332071901608325),\n",
       " ('n', 0.07190160832544938),\n",
       " ('h', 0.06717123935666983),\n",
       " ('g', 0.0586565752128666),\n",
       " ('y', 0.05723746452223273),\n",
       " ('c', 0.04777672658467361),\n",
       " ('d', 0.035477767265846734),\n",
       " ('l', 0.03500473036896878),\n",
       " ('j', 0.03216650898770104),\n",
       " ('t', 0.031693472090823085),\n",
       " ('a', 0.027909176915799434),\n",
       " ('o', 0.024124881740775782),\n",
       " ('q', 0.023651844843897825),\n",
       " ('b', 0.01892147587511826),\n",
       " ('e', 0.017975402081362345),\n",
       " ('s', 0.013718070009460738),\n",
       " ('z', 0.00946073793755913),\n",
       " ('p', 0.008514664143803218),\n",
       " ('m', 0.007568590350047304),\n",
       " ('u', 0.002838221381267739),\n",
       " ('k', 0.0014191106906338694),\n",
       " ('f', 0),\n",
       " ('w', 0)]"
      ]
     },
     "execution_count": 14,
     "metadata": {},
     "output_type": "execute_result"
    }
   ],
   "source": [
    "Frequencies(ciphertext)"
   ]
  },
  {
   "cell_type": "code",
   "execution_count": 15,
   "metadata": {},
   "outputs": [
    {
     "name": "stdout",
     "output_type": "stream",
     "text": [
      "letters as per freq in cipher text\tLetters substituted according to freq list\tActual letters as per real freq list\n",
      "\t\t r \t\t\t\t\t e \t\t\t\t\t\t e\n",
      "\t\t i \t\t\t\t\t t \t\t\t\t\t\t t\n",
      "\t\t x \t\t\t\t\t i \t\t\t\t\t\t a\n",
      "\t\t v \t\t\t\t\t s \t\t\t\t\t\t o\n",
      "\t\t n \t\t\t\t\t a \t\t\t\t\t\t i\n",
      "\t\t h \t\t\t\t\t r \t\t\t\t\t\t n\n",
      "\t\t g \t\t\t\t\t n \t\t\t\t\t\t s\n",
      "\t\t y \t\t\t\t\t o \t\t\t\t\t\t r\n",
      "\t\t c \t\t\t\t\t h \t\t\t\t\t\t h\n",
      "\t\t d \t\t\t\t\t l \t\t\t\t\t\t d\n",
      "\t\t l \t\t\t\t\t p \t\t\t\t\t\t l\n",
      "\t\t j \t\t\t\t\t u \t\t\t\t\t\t u\n",
      "\t\t t \t\t\t\t\t d \t\t\t\t\t\t c\n",
      "\t\t a \t\t\t\t\t c \t\t\t\t\t\t m\n",
      "\t\t o \t\t\t\t\t b \t\t\t\t\t\t f\n",
      "\t\t q \t\t\t\t\t m \t\t\t\t\t\t y\n",
      "\t\t b \t\t\t\t\t f \t\t\t\t\t\t w\n",
      "\t\t e \t\t\t\t\t g \t\t\t\t\t\t g\n",
      "\t\t s \t\t\t\t\t y \t\t\t\t\t\t p\n",
      "\t\t z \t\t\t\t\t x \t\t\t\t\t\t b\n",
      "\t\t p \t\t\t\t\t w \t\t\t\t\t\t v\n",
      "\t\t m \t\t\t\t\t v \t\t\t\t\t\t k\n",
      "\t\t u \t\t\t\t\t k \t\t\t\t\t\t x\n",
      "\t\t k \t\t\t\t\t q \t\t\t\t\t\t q\n",
      "\t\t f \t\t\t\t\t j \t\t\t\t\t\t j\n",
      "\t\t w \t\t\t\t\t z \t\t\t\t\t\t z\n"
     ]
    }
   ],
   "source": [
    "d = Frequencies(ciphertext)\n",
    "j=0\n",
    "print(\"letters as per freq in cipher text\\tLetters substituted according to freq list\\tActual letters as per real freq list\")\n",
    "for i in d:\n",
    "    index = str(i[0]).upper()\n",
    "    print('\\t\\t',i[0],'\\t\\t\\t\\t\\t',toAlphabet[key.index(index)],'\\t\\t\\t\\t\\t\\t',real_freq_list[j])\n",
    "    j+=1"
   ]
  },
  {
   "cell_type": "markdown",
   "metadata": {},
   "source": [
    "In statistical attack of substitution cipher we replace characters according to their frequencies in cipher text by comparing with frequency chart. But here we can observe that in the middle portion of list, the letter to be replaced and actual letter are different. Hence it is very difficult to do statistical analysis unless all characters has frequencies according to frequency list"
   ]
  },
  {
   "cell_type": "markdown",
   "metadata": {},
   "source": [
    "## Bruteforce attack\n",
    "\n",
    "To do brute force attack on substitution ciphertext we need to try around 26! keys which is computationally very expensive even with modern day computers. Hence it is very very hard to perform bruteforce attack"
   ]
  }
 ],
 "metadata": {
  "kernelspec": {
   "display_name": "SageMath 9.1",
   "language": "sage",
   "name": "sagemath"
  },
  "language_info": {
   "codemirror_mode": {
    "name": "ipython",
    "version": 3
   },
   "file_extension": ".py",
   "mimetype": "text/x-python",
   "name": "python",
   "nbconvert_exporter": "python",
   "pygments_lexer": "ipython3",
   "version": "3.7.3"
  }
 },
 "nbformat": 4,
 "nbformat_minor": 2
}
