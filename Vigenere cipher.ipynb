{
 "cells": [
  {
   "cell_type": "code",
   "execution_count": 1,
   "metadata": {},
   "outputs": [
    {
     "name": "stdout",
     "output_type": "stream",
     "text": [
      "{'a': 0, 'b': 1, 'c': 2, 'd': 3, 'e': 4, 'f': 5, 'g': 6, 'h': 7, 'i': 8, 'j': 9, 'k': 10, 'l': 11, 'm': 12, 'n': 13, 'o': 14, 'p': 15, 'q': 16, 'r': 17, 's': 18, 't': 19, 'u': 20, 'v': 21, 'w': 22, 'x': 23, 'y': 24, 'z': 25}\n",
      "\n",
      "{0: 'a', 1: 'b', 2: 'c', 3: 'd', 4: 'e', 5: 'f', 6: 'g', 7: 'h', 8: 'i', 9: 'j', 10: 'k', 11: 'l', 12: 'm', 13: 'n', 14: 'o', 15: 'p', 16: 'q', 17: 'r', 18: 's', 19: 't', 20: 'u', 21: 'v', 22: 'w', 23: 'x', 24: 'y', 25: 'z'}\n",
      "Requirement already satisfied: wordninja in /opt/sagemath-9.1/local/lib/python3.7/site-packages (2.0.0)\n"
     ]
    }
   ],
   "source": [
    "#Utility functions and dictionaries\n",
    "from collections import defaultdict\n",
    "from itertools import permutations, product\n",
    "\n",
    "toAscii = {}\n",
    "toAlphabet = {}\n",
    "\n",
    "string='abcdefghijklmnopqrstuvwxyz'\n",
    "for i in range(0,26):\n",
    "    toAscii[string[i]] = i\n",
    "    toAlphabet[i] = string[i]\n",
    "print(toAscii)\n",
    "print()\n",
    "print(toAlphabet)\n",
    "\n",
    "def preprocess(text):\n",
    "    text = list(text)\n",
    "    for i in range(len(text)):\n",
    "        if not text[i].isalpha():\n",
    "            text[i]=''\n",
    "    text = ''.join(text)\n",
    "    return text.lower()\n",
    "\n",
    "def mod26(number): #returns (number)mod26 value\n",
    "    return number%26\n",
    "\n",
    "dict_list = []\n",
    "with open(\"words.txt\",mode='r') as f:\n",
    "    dict_list = f.readlines()\n",
    "word_list = [ i.replace(\"\\n\",\"\") for i in dict_list]\n",
    "\n",
    "def with_spaces(text):\n",
    "    text = list(preprocess(text))\n",
    "    words = []\n",
    "    word_1 = []\n",
    "    word_2 = []\n",
    "    start=0\n",
    "    end=0\n",
    "    i=0\n",
    "    k=0\n",
    "    while i<len(text):\n",
    "        word_1.append(text[i])\n",
    "        if ''.join(word_1) in word_list:\n",
    "            end=i\n",
    "        if i==len(text)-1:\n",
    "            if(''.join(list(text[start:end+1]))==''): break\n",
    "            words.append(''.join(list(text[start:end+1])))\n",
    "            word_1 = []\n",
    "            i=end\n",
    "            start=i+1\n",
    "        i+=1\n",
    "    return \" \".join(words)\n",
    "\n",
    "! pip3 install wordninja\n",
    "import wordninja# NLP library which adds spaces to the sentence and outputs most probable sentence"
   ]
  },
  {
   "cell_type": "markdown",
   "metadata": {},
   "source": [
    "### Vigenere Cipher Encryption"
   ]
  },
  {
   "cell_type": "code",
   "execution_count": 2,
   "metadata": {},
   "outputs": [],
   "source": [
    "def VigenereCipherEncryption(PlainText,key):\n",
    "    key_ascii = [ toAscii[i] for i in key.replace(\" \",\"\").lower() ]\n",
    "    PText = list(preprocess(PlainText)) #creates list of characters after removing spaces and changing case to lower\n",
    "    CText = []\n",
    "    k = 0\n",
    "    for P in PText:\n",
    "        k = k % len(key)\n",
    "        P_ascii = toAscii[P] #converting letter to ascii\n",
    "        C_ascii = mod26(P_ascii+key_ascii[k]) #Encryption C=(Pi + ki)mod26\n",
    "        C = toAlphabet[C_ascii] #converting ascii to letter\n",
    "        CText.append(C) \n",
    "        k=k+1\n",
    "    CipherText = ''.join(CText)\n",
    "    return CipherText"
   ]
  },
  {
   "cell_type": "code",
   "execution_count": 3,
   "metadata": {},
   "outputs": [
    {
     "data": {
      "text/plain": [
       "'rnvbwzwkvhlifcfmjcfmyywgtlqikcggglgvvmkmyyubgbwklmwlrxaywyjxensegbsuvnxkfgggvixmyyjhnm'"
      ]
     },
     "execution_count": 3,
     "metadata": {},
     "output_type": "execute_result"
    }
   ],
   "source": [
    "PlainText = \"At different points in the encryption process, the cipher uses a different alphabet from one of the rows.\"\n",
    "key = \"RUST\"\n",
    "VigenereCipherEncryption(PlainText,key)"
   ]
  },
  {
   "cell_type": "markdown",
   "metadata": {},
   "source": [
    "### Vigenere Cipher Decryption"
   ]
  },
  {
   "cell_type": "code",
   "execution_count": 4,
   "metadata": {},
   "outputs": [],
   "source": [
    "def VigenereCipherDecryption(CipherText,key):\n",
    "    key_ascii = [ toAscii[i] for i in key.replace(\" \",\"\").lower() ]\n",
    "    CText = list(preprocess(CipherText)) #creates list of characters after removing spaces and changing case to lower\n",
    "    PText = []\n",
    "    k = 0\n",
    "    for C in CText:\n",
    "        k = k % len(key)\n",
    "        C_ascii = toAscii[C] #converting letter to ascii\n",
    "        P_ascii = mod26(C_ascii-key_ascii[k]) #Decryption P=(Ci-ki)mod26\n",
    "        P = toAlphabet[P_ascii] #converting ascii to letter\n",
    "        PText.append(P) \n",
    "        k=k+1\n",
    "    PlainText = ''.join(PText)\n",
    "    return PlainText"
   ]
  },
  {
   "cell_type": "code",
   "execution_count": 5,
   "metadata": {},
   "outputs": [
    {
     "data": {
      "text/plain": [
       "'atdifferentpointsintheencryptionprocessthecipherusesadifferentalphabetfromoneoftherows'"
      ]
     },
     "execution_count": 5,
     "metadata": {},
     "output_type": "execute_result"
    }
   ],
   "source": [
    "CipherText = 'rnvbwzwkvhlifcfmjcfmyywgtlqikcggglgvvmkmyyubgbwklmwlrxaywyjxensegbsuvnxkfgggvixmyyjhnm'\n",
    "key = \"RUST\"\n",
    "VigenereCipherDecryption(CipherText,key)"
   ]
  },
  {
   "cell_type": "code",
   "execution_count": 6,
   "metadata": {},
   "outputs": [
    {
     "data": {
      "text/plain": [
       "'at different points int hee ncr y pt ion process the cipher uses ad if fe rental ph abe tf rom one of ther ow s'"
      ]
     },
     "execution_count": 6,
     "metadata": {},
     "output_type": "execute_result"
    }
   ],
   "source": [
    "#adding spaces using self made function\n",
    "with_spaces('atdifferentpointsintheencryptionprocessthecipherusesadifferentalphabetfromoneoftherows')"
   ]
  },
  {
   "cell_type": "code",
   "execution_count": 7,
   "metadata": {},
   "outputs": [
    {
     "data": {
      "text/plain": [
       "'at different points in the encryption process the cipher uses a different alphabet from one of the rows'"
      ]
     },
     "execution_count": 7,
     "metadata": {},
     "output_type": "execute_result"
    }
   ],
   "source": [
    "#adding spaces using nlp library\n",
    "' '.join(wordninja.split(\"atdifferentpointsintheencryptionprocessthecipherusesadifferentalphabetfromoneoftherows\"))"
   ]
  },
  {
   "cell_type": "markdown",
   "metadata": {},
   "source": [
    "### Input/Output file read/write"
   ]
  },
  {
   "cell_type": "code",
   "execution_count": 8,
   "metadata": {},
   "outputs": [
    {
     "name": "stdout",
     "output_type": "stream",
     "text": [
      "Example  1 Encrypted text\n",
      " vyckbugecgxqkgftkwurktmvqumuxbeiwemwpxyaivcscibqvvviumwjgczouvpxxgqwgcmstnmkxberchtfeznwxfu\n",
      "\n",
      "Example  1 Decrypted text\n",
      " thevigenerecipherisamethodofencryptingalphabetictextbyusingaseriesofinterwovencaesarciphers\n",
      "\n",
      "Example  1 Text after adding spaces\n",
      " the vi gene re cipher is a method of encrypting alphabetic text by using a series of interwoven caesar ciphers\n",
      "\n",
      "Example  2 Encrypted text\n",
      " zvpyoupqkfpfodshxulltsodxsaxzoelubqrxppltupaisawocydrzjvzfzqm\n",
      "\n",
      "Example  2 Decrypted text\n",
      " thevigenereciphergainedareputationforbeingexceptionallystrong\n",
      "\n",
      "Example  2 Text after adding spaces\n",
      " the vi gene re cipher gained a reputation for being exceptionally strong\n",
      "\n",
      "Example  3 Encrypted text\n",
      " ppbtaplcpcqegqehuoavxthbkdnpqrweequhizqnprgwcboawcapuidttvkujbfbkiugqqcekkgetgpcitumexpumtplcpcqegqurhnvitdcmtxoqqeplygywiymgccvxjtrvviihrughsnog\n",
      "\n",
      "Example  3 Decrypted text\n",
      " apolyalphabeticsubstitutioncipherissimilartoamonoalphabeticsubstitutionexceptthatthecipheralphabetischangedperiodicallywhileencipheringthemessage\n",
      "\n",
      "Example  3 Text after adding spaces\n",
      " a poly alphabetic substitution cipher is similar to a mono alphabetic substitution except that the cipher alphabet is changed periodically while en ciphering the message\n",
      "\n"
     ]
    }
   ],
   "source": [
    "with open(\"B180522CS_SINGAM_6_I.txt\",'r') as f1:\n",
    "    lines = f1.readlines()\n",
    "    file = [ line.replace(\"\\n\",\"\") for line in lines]\n",
    "\n",
    "with open(\"B180522CS_SINGAM_6_O.txt\",'w') as f2:\n",
    "    j=1\n",
    "    for i in range(0,len(file)-1,2):\n",
    "        ciphertext =file[i]\n",
    "        key = file[i+1]\n",
    "        encrypted_text = VigenereCipherEncryption(ciphertext,key)\n",
    "        print(\"Example \",j,'Encrypted text\\n',encrypted_text+'\\n')\n",
    "        f2.write(f\"Example {j} Encrypted text\\n\")\n",
    "        f2.write(encrypted_text+\"\\n\\n\")\n",
    "        decrypted_text = VigenereCipherDecryption(encrypted_text,key)\n",
    "        print(\"Example \",j,'Decrypted text\\n',decrypted_text+'\\n')\n",
    "        f2.write(f\"Example {j} Decrypted text\\n\")\n",
    "        f2.write(decrypted_text+\"\\n\\n\")\n",
    "        spaces = ' '.join(wordninja.split(decrypted_text))\n",
    "        print(\"Example \",j,'Text after adding spaces\\n',spaces+'\\n')\n",
    "        f2.write(f\"Example {j} Text after adding spaces\\n\")\n",
    "        f2.write(spaces+\"\\n\\n\")\n",
    "        j+=1"
   ]
  },
  {
   "cell_type": "markdown",
   "metadata": {},
   "source": [
    "# Cryptanalysis"
   ]
  },
  {
   "cell_type": "markdown",
   "metadata": {},
   "source": [
    "## Kasiski Test"
   ]
  },
  {
   "cell_type": "code",
   "execution_count": 9,
   "metadata": {},
   "outputs": [],
   "source": [
    "real_freq_dict = {'e':12.02,'t':9.10,'a':8.12,'o':7.68,'i':7.31,'n':6.95,'s':6.28,'r':6.02,'h':5.92,'d':4.32,'l':3.98,'u':2.88,\n",
    "             'c':2.71,'m':2.61,'f':2.30,'y':2.11,'w':2.09,'g':2.03,'p':1.82,'b':1.49,'v':1.11,'k':0.69,'x':0.17,'q':0.11,\n",
    "             'j':0.10,'z':0.07}\n",
    "real_freq_list = list('etaoinsrhdlucmfywgpbvkxqjz')"
   ]
  },
  {
   "cell_type": "code",
   "execution_count": 10,
   "metadata": {},
   "outputs": [],
   "source": [
    "from collections import defaultdict\n",
    "def Frequencies(CipherText): #to get frequencies of each letter in a text\n",
    "    freq = defaultdict(lambda :0)\n",
    "    for letter in CipherText:\n",
    "        freq[letter] += 1\n",
    "    total = sum(freq.values())\n",
    "    for i in freq.keys():\n",
    "        freq[i] = float(freq[i]/total)\n",
    "    freq = sorted(freq.items(),reverse=True,key=lambda i:i[1])\n",
    "    return freq"
   ]
  },
  {
   "cell_type": "code",
   "execution_count": 11,
   "metadata": {},
   "outputs": [],
   "source": [
    "from collections import defaultdict\n",
    "from math import gcd\n",
    "from functools import reduce\n",
    "\n",
    "def repeated_segments_gcd(Ciphertext):   # return gcd of differences of occurances of multiple segments of length 3\n",
    "    text = preprocess(Ciphertext)\n",
    "    segments = defaultdict(list)\n",
    "    for i in range(len(text)-2):\n",
    "        seg_1 = text[i:i+3]\n",
    "        count=0\n",
    "        for j in range(i+3,len(text)-2):\n",
    "            seg_2 = text[j:j+3]\n",
    "            if seg_1 == seg_2 and seg_1 not in segments.keys():\n",
    "                segments[seg_1].append(i)\n",
    "                segments[seg_1].append(j)\n",
    "    print(\"Segment----------first and second occurances\")\n",
    "    for k,v in segments.items():\n",
    "        print(k,'\\t\\t',v)\n",
    "    difference = []\n",
    "    for seg in segments.keys():\n",
    "        difference.append(segments[seg][1]-segments[seg][0])\n",
    "    print(\"differences of indices\",difference)\n",
    "    m = reduce(gcd,difference)\n",
    "    print(\"gcd of differences is\",m,\"the length of key should be multiple of\",m)\n",
    "    return m"
   ]
  },
  {
   "cell_type": "code",
   "execution_count": 12,
   "metadata": {},
   "outputs": [],
   "source": [
    "def divide_seg(m,Ciphertext): #divide sentence into m segments\n",
    "    text = preprocess(Ciphertext)\n",
    "    segments = ['']*m\n",
    "    for i in range(m):\n",
    "        for j in range(i,len(text),m):\n",
    "            segments[i] += text[j]\n",
    "    return segments"
   ]
  },
  {
   "cell_type": "code",
   "execution_count": 13,
   "metadata": {},
   "outputs": [],
   "source": [
    "def ShiftCipherDecryption(CipherText,key):\n",
    "    CText = list(preprocess(CipherText)) #creates list of characters after removing spaces and changing case to lower\n",
    "    PText = []\n",
    "    for C in CText:\n",
    "        C_ascii = toAscii[C] #converting letter to ascii\n",
    "        P_ascii = mod26(C_ascii-key) #Decryption P=(C-key)mod26\n",
    "        P = toAlphabet[P_ascii] #converting ascii to letter\n",
    "        PText.append(P) \n",
    "    PlainText = ''.join(PText)\n",
    "    return PlainText"
   ]
  },
  {
   "cell_type": "code",
   "execution_count": 14,
   "metadata": {},
   "outputs": [],
   "source": [
    "def substitute(segments): # Substitute characters of segments by doing frequency analysis and return list\n",
    "    m = len(segments)\n",
    "    lists = defaultdict(list)\n",
    "    j=0\n",
    "    for seg in segments:\n",
    "        freq = Frequencies(seg)\n",
    "        for i in real_freq_list[:5]: \n",
    "            k = mod26(toAscii[freq[0][0]]- toAscii[i])\n",
    "            text = ShiftCipherDecryption(seg,k)\n",
    "            lists[j].append(text)\n",
    "        j+=1\n",
    "    comb = []\n",
    "    for i in range(m):\n",
    "        comb.append(lists[i])\n",
    "    print(len(comb))\n",
    "    combinations = list(product(*comb))\n",
    "    return combinations"
   ]
  },
  {
   "cell_type": "code",
   "execution_count": 15,
   "metadata": {},
   "outputs": [],
   "source": [
    "def transform(segments): # Combine m segments to form text\n",
    "    m=len(segments)\n",
    "    transformed_text = ''\n",
    "    index=0\n",
    "    for _ in range(len(segments[0])):\n",
    "        for i in range(m):\n",
    "            try:\n",
    "                transformed_text += segments[i][index]\n",
    "            except:\n",
    "                transformed_text += ''\n",
    "        index+=1\n",
    "    return transformed_text"
   ]
  },
  {
   "cell_type": "code",
   "execution_count": 16,
   "metadata": {},
   "outputs": [],
   "source": [
    "def kasiski_test(CipherText):\n",
    "    text = preprocess(CipherText)\n",
    "    gcd = repeated_segments_gcd(text)\n",
    "    \n",
    "    for j in range(1,6):\n",
    "        m = j*gcd\n",
    "        if m>5: break\n",
    "        segments = divide_seg(m,text)\n",
    "        combinations = substitute(segments)  #returns list with segments substituted with first 5 frequent letters\n",
    "    \n",
    "        possibilities = []\n",
    "        matches = []\n",
    "        matching_words=[]\n",
    "        for comb in combinations:\n",
    "            text=transform(list(comb))\n",
    "            count=0\n",
    "            words=[]\n",
    "            possibilities.append(text)\n",
    "            with open(\"words.txt\",mode='r') as f:\n",
    "                for word in f.readlines():\n",
    "                    word=word.replace(\"\\n\",\"\")\n",
    "                    if len(word)>3 and word in text:\n",
    "                        count += 1\n",
    "                        words.append(word)\n",
    "                matches.append(count)\n",
    "                matching_words.append(words)\n",
    "\n",
    "    matches_copy = matches.copy()\n",
    "    matches_copy = sorted(matches_copy,reverse=True)\n",
    "    \n",
    "    print(\"Possible text of most probable plaintext after adding spaces by going through dictionary\\n\")\n",
    "    print(with_spaces(possibilities[matches.index(matches_copy[0])]),'\\n')\n",
    "    \n",
    "    print(\"Possible text of most probable plaintext after adding spaces using nlp library\\n\")\n",
    "    spaces = ' '.join(wordninja.split(possibilities[matches.index(matches_copy[0])]))\n",
    "    print(spaces,'\\n')\n",
    "    \n",
    "    print(\"\\nTop 2 probable plain texts using statistical attack are\\n\") \n",
    "    for i in range(2):\n",
    "        index = matches.index(matches_copy[i])\n",
    "        print(\"\\nPlaintext\\n\",possibilities[index],\"\\nmatching words count\",matches[index],'\\nmatchingwords',matching_words[index])\n",
    "        print()"
   ]
  },
  {
   "cell_type": "markdown",
   "metadata": {},
   "source": [
    "### Example 1"
   ]
  },
  {
   "cell_type": "code",
   "execution_count": 17,
   "metadata": {},
   "outputs": [
    {
     "data": {
      "text/plain": [
       "'ppxkenypyceauwyboqgnppxrwabzgqxewubuwbbvjtbloqgmevwpjokllmtaallanqgnobapoqlhrmkfdikkpilrpwilnnhyiutuqiesujnaywfwqbxyoktuiidlebfbypxhoqxydwplrmkjwzxpoamphtklmcbyallpjkxzkuxyaxxhpmwzpzbucafhurnzpjxjkqgjelxuymlvpptaowflknmoazxwaimkeamhjkxzwzxteaelwlbucbalyzrwpighhgladilakznsawnappxjkqgjelxuymlaknbuzbalywkyakmsavzadbaljwyjkckzabaliwgvwtiowjxaekvplpxypmqaobahpzxzqtmtqamiakkflbtuwtrgalmoaighhglajmqabivakzllwkavbbalomgbijxyoqyhjggbijxyeakllmtaalbuppxtwrhyebrvbbalomyhybhyevzzebbzhqdlhgmvxmmoatxucbavbbalgmrdkzw'"
      ]
     },
     "execution_count": 17,
     "metadata": {},
     "output_type": "execute_result"
    }
   ],
   "source": [
    "Ciphertext='ppxkenypyceauwyboqgnppxrwabzgqxewubuwbbvjtbloqgmevwpjokllmtaallanqgnobapoqlhrmkfdikkpilrpwilnnhyiutuqiesujnaywfwqbxyoktuiidlebfbypxhoqxydwplrmkjwzxpoamphtklmcbyallpjkxzkuxyaxxhpmwzpzbucafhurnzpjxjkqgjelxuymlvpptaowflknmoazxwaimkeamhjkxzwzxteaelwlbucbalyzrwpighhgladilakznsawnappxjkqgjelxuymlaknbuzbalywkyakmsavzadbaljwyjkckzabaliwgvwtiowjxaekvplpxypmqaobahpzxzqtmtqamiakkflbtuwtrgalmoaighhglajmqabivakzllwkavbbalomgbijxyoqyhjggbijxyeakllmtaalbuppxtwrhyebrvbbalomyhybhyevzzebbzhqdlhgmvxmmoatxucbavbbalgmrdkzw'\n",
    "Ciphertext"
   ]
  },
  {
   "cell_type": "code",
   "execution_count": 18,
   "metadata": {},
   "outputs": [
    {
     "name": "stdout",
     "output_type": "stream",
     "text": [
      "Segment----------first and second occurances\n",
      "ppx \t\t [0, 20]\n",
      "oqg \t\t [16, 44]\n",
      "qgn \t\t [17, 65]\n",
      "kll \t\t [54, 434]\n",
      "llm \t\t [55, 435]\n",
      "lmt \t\t [56, 436]\n",
      "mta \t\t [57, 437]\n",
      "taa \t\t [58, 438]\n",
      "aal \t\t [59, 439]\n",
      "all \t\t [60, 160]\n",
      "oba \t\t [68, 352]\n",
      "rmk \t\t [76, 140]\n",
      "xyo \t\t [114, 418]\n",
      "wzx \t\t [144, 236]\n",
      "jkx \t\t [164, 232]\n",
      "kxz \t\t [165, 233]\n",
      "buc \t\t [182, 246]\n",
      "xjk \t\t [194, 278]\n",
      "jkq \t\t [195, 279]\n",
      "kqg \t\t [196, 280]\n",
      "qgj \t\t [197, 281]\n",
      "gje \t\t [198, 282]\n",
      "jel \t\t [199, 283]\n",
      "elx \t\t [200, 284]\n",
      "lxu \t\t [201, 285]\n",
      "xuy \t\t [202, 286]\n",
      "uym \t\t [203, 287]\n",
      "yml \t\t [204, 288]\n",
      "moa \t\t [218, 382]\n",
      "lbu \t\t [245, 441]\n",
      "ucb \t\t [247, 491]\n",
      "cba \t\t [248, 492]\n",
      "bal \t\t [249, 297]\n",
      "aly \t\t [250, 298]\n",
      "igh \t\t [257, 385]\n",
      "ghh \t\t [258, 386]\n",
      "hhg \t\t [259, 387]\n",
      "hgl \t\t [260, 388]\n",
      "gla \t\t [261, 389]\n",
      "lak \t\t [266, 290]\n",
      "akz \t\t [267, 399]\n",
      "mqa \t\t [349, 393]\n",
      "avb \t\t [406, 494]\n",
      "vbb \t\t [407, 455]\n",
      "bba \t\t [408, 456]\n",
      "alo \t\t [410, 458]\n",
      "lom \t\t [411, 459]\n",
      "gbi \t\t [414, 426]\n",
      "bij \t\t [415, 427]\n",
      "ijx \t\t [416, 428]\n",
      "jxy \t\t [417, 429]\n",
      "hye \t\t [450, 466]\n",
      "differences of indices [20, 28, 48, 380, 380, 380, 380, 380, 380, 100, 284, 64, 304, 92, 68, 68, 64, 84, 84, 84, 84, 84, 84, 84, 84, 84, 84, 84, 164, 196, 244, 244, 48, 48, 128, 128, 128, 128, 128, 24, 132, 44, 88, 48, 48, 48, 48, 12, 12, 12, 12, 16]\n",
      "gcd of differences is 4 the length of key should be multiple of 4\n",
      "4\n",
      "Possible text of most probable plaintext after adding spaces by going through dictionary\n",
      "\n",
      "the difficulty of using the ka sis ki examination lies inf indi ng repeated strings this isa very hard task top er form manually but computers can make it much easier however care iss till required since some repeated strings may just be coincidence so thats om eo ft here pea td ist an ces are misleading the crypt analyst hast or ul eo ut the coincidence sto find the correct length then of course them on oa lp ha bet icc ip her texts that result must be crypt analyzed the analyst next factors each of these numbers if any number is repeated int hem aj or ity of these factoring sit isl ik el y to bethel eng tho ft he keyword \n",
      "\n",
      "Possible text of most probable plaintext after adding spaces using nlp library\n",
      "\n",
      "the difficulty of using the k as is ki examination lies in finding repeated strings this is a very hard task to perform manually but computers can make it much easier however care is still required since some repeated strings may just be coincidence so that some of the repeat distances are misleading the cryptanalyst has to rule out the coincidences to find the correct length then of course the mono alphabetic ciphertexts that result must be crypt analyzed the analyst next factors each of these numbers if any number is repeated in the majority of these factoring s it is likely to be the length of the keyword \n",
      "\n",
      "\n",
      "Top 2 probable plain texts using statistical attack are\n",
      "\n",
      "\n",
      "Plaintext\n",
      " thedifficultyofusingthekasiskiexaminationliesinfindingrepeatedstringsthisisaveryhardtasktoperformmanuallybutcomputerscanmakeitmucheasierhowevercareisstillrequiredsincesomerepeatedstringsmayjustbecoincidencesothatsomeoftherepeatdistancesaremisleadingthecryptanalysthastoruleoutthecoincidencestofindthecorrectlengththenofcoursethemonoalphabeticciphertextsthatresultmustbecryptanalyzedtheanalystnextfactorseachofthesenumbersifanynumberisrepeatedinthemajorityofthesefactoringsitislikelytobethelengthofthekeyword \n",
      "matching words count 121 \n",
      "matchingwords ['that', 'this', 'there', 'here', 'some', 'these', 'like', 'find', 'just', 'next', 'make', 'them', 'number', 'cipher', 'then', 'each', 'very', 'must', 'using', 'much', 'care', 'computer', 'since', 'text', 'form', 'still', 'save', 'course', 'however', 'required', 'hard', 'result', 'major', 'computers', 'ever', 'word', 'fact', 'length', 'lead', 'numbers', 'anal', 'distance', 'rule', 'leading', 'likely', 'ring', 'require', 'string', 'manual', 'correct', 'nation', 'difficult', 'factors', 'task', 'keyword', 'factor', 'finding', 'perform', 'rings', 'majority', 'alpha', 'easier', 'diff', 'examination', 'exam', 'scan', 'analyst', 'till', 'actor', 'lies', 'tion', 'repeat', 'difficulty', 'strings', 'actors', 'texts', 'hats', 'sing', 'saver', 'coin', 'thats', 'repeated', 'isle', 'comp', 'helen', 'analyze', 'mono', 'dist', 'mere', 'beth', 'cult', 'incidence', 'analyzed', 'manually', 'stan', 'distances', 'ours', 'compute', 'cest', 'alphabet', 'seth', 'misleading', 'avery', 'reds', 'stance', 'ally', 'isis', 'corr', 'howe', 'grep', 'bethel', 'ther', 'tres', 'enum', 'tori', 'crypt', 'factoring', 'coincidence', 'hast', 'indi', 'ding']\n",
      "\n",
      "\n",
      "Plaintext\n",
      " thadifbicuhtyobusijgthakaseskiaxamenateonleesijfinzingnepewtedotrijgstdisioavenyhandtaoktolerfkrmmwnuahlybqtcoiputarscwnmageitiuchaasiarhosevencaraisspillnequeredoincasomarepaatezstrengsiayjqstbacoijcidanceoothwtsoieofpherapeapdispancasaramisheadengtdecruptajalyothaotorqleoqtthacoijcidanceotofendtdeconrecplencthtdenobcounsetdemojoallhabaticyiphartettstdatrasulpmuspbecnyptwnaluzedpheajalyotnettfaytoroeacdoftdesejumbarsibanyjumbarisnepewtedenthamajkrituoftdesebactkrincsitesligelypobephelangtdoftdekeuworz \n",
      "matching words count 34 \n",
      "matchingwords ['site', 'even', 'sites', 'hand', 'head', 'asia', 'rape', 'dance', 'seven', 'bars', 'demo', 'pill', 'lang', 'span', 'sara', 'hart', 'soma', 'hose', 'casa', 'eden', 'spill', 'deco', 'dent', 'nate', 'mare', 'omar', 'amen', 'econ', 'arte', 'shea', 'mojo', 'hama', 'mage', 'haas']\n",
      "\n"
     ]
    }
   ],
   "source": [
    "kasiski_test(Ciphertext)"
   ]
  },
  {
   "cell_type": "markdown",
   "metadata": {},
   "source": [
    "### Example 2"
   ]
  },
  {
   "cell_type": "code",
   "execution_count": 19,
   "metadata": {},
   "outputs": [],
   "source": [
    "Ciphertext = \"LIOMWGFEGGDVWGHHCQUCRHRWAGWIOWQLKGZETKKMEVLWPCZVGTHVTSGXQOVGCSVETQLTJSUMVWVEUVLXEWSLGFZMVVWLGYHCUSWXQHKVGSHEEVFLCFDGVSUMPHKIRZDMPHHBVWVWJWIXGFWLTSHGJOUEEHHVUCFVGOWICQLTJSUXGLW\""
   ]
  },
  {
   "cell_type": "code",
   "execution_count": 20,
   "metadata": {},
   "outputs": [
    {
     "name": "stdout",
     "output_type": "stream",
     "text": [
      "Segment----------first and second occurances\n",
      "qlt \t\t [65, 165]\n",
      "ltj \t\t [66, 166]\n",
      "tjs \t\t [67, 167]\n",
      "jsu \t\t [68, 168]\n",
      "sum \t\t [69, 117]\n",
      "vwv \t\t [72, 132]\n",
      "mph \t\t [119, 127]\n",
      "differences of indices [100, 100, 100, 100, 48, 60, 8]\n",
      "gcd of differences is 4 the length of key should be multiple of 4\n",
      "4\n",
      "Possible text of most probable plaintext after adding spaces by going through dictionary\n",
      "\n",
      "julius caesar used ac ry pt os y stem in his war which is now referred to asc aes arc ip her it isa shit cipher with the keys et tot hr ee each character int hep lai nt ext iss hi fte rt hr ee characters ocr eat ea cipher text \n",
      "\n",
      "Possible text of most probable plaintext after adding spaces using nlp library\n",
      "\n",
      "julius caesar used a cryptosystem in his war which is now referred to as caesar cipher it is as hit cipher with the key set to three each character in the plaintext is shifter three character so create a ciphertext \n",
      "\n",
      "\n",
      "Top 2 probable plain texts using statistical attack are\n",
      "\n",
      "\n",
      "Plaintext\n",
      " juliuscaesarusedacryptosysteminhiswarwhichisnowreferredtoascaesarcipheritisashitcipherwiththekeysettothreeeachcharacterintheplaintextisshifterthreecharactersocreateaciphertext \n",
      "matching words count 26 \n",
      "matchingwords ['with', 'which', 'used', 'system', 'cipher', 'each', 'three', 'text', 'create', 'character', 'characters', 'snow', 'referred', 'refer', 'plain', 'keys', 'shift', 'char', 'shit', 'stem', 'erin', 'caesar', 'julius', 'minh', 'crypto', 'crypt']\n",
      "\n",
      "\n",
      "Plaintext\n",
      " jqliuocaeoaruoedayrypposyotemenhiowarshicdisnkwreberradtowscaasaryipharitesasditcephenwitdthegeysattophreaeacdchanactarinphephainpextessheftenthraechwracperskcrewteayiphartett \n",
      "matching words count 12 \n",
      "matchingwords ['iowa', 'wars', 'crew', 'hart', 'chan', 'tent', 'tenth', 'rite', 'acta', 'arin', 'arte', 'pers']\n",
      "\n"
     ]
    }
   ],
   "source": [
    "kasiski_test(Ciphertext)"
   ]
  },
  {
   "cell_type": "code",
   "execution_count": null,
   "metadata": {},
   "outputs": [],
   "source": []
  }
 ],
 "metadata": {
  "kernelspec": {
   "display_name": "SageMath 9.1",
   "language": "sage",
   "name": "sagemath"
  },
  "language_info": {
   "codemirror_mode": {
    "name": "ipython",
    "version": 3
   },
   "file_extension": ".py",
   "mimetype": "text/x-python",
   "name": "python",
   "nbconvert_exporter": "python",
   "pygments_lexer": "ipython3",
   "version": "3.7.3"
  }
 },
 "nbformat": 4,
 "nbformat_minor": 2
}
