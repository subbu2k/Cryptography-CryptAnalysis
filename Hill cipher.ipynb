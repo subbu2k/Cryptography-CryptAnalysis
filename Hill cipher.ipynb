{
 "cells": [
  {
   "cell_type": "code",
   "execution_count": 1,
   "metadata": {},
   "outputs": [
    {
     "name": "stdout",
     "output_type": "stream",
     "text": [
      "{'a': 0, 'b': 1, 'c': 2, 'd': 3, 'e': 4, 'f': 5, 'g': 6, 'h': 7, 'i': 8, 'j': 9, 'k': 10, 'l': 11, 'm': 12, 'n': 13, 'o': 14, 'p': 15, 'q': 16, 'r': 17, 's': 18, 't': 19, 'u': 20, 'v': 21, 'w': 22, 'x': 23, 'y': 24, 'z': 25}\n",
      "\n",
      "{0: 'a', 1: 'b', 2: 'c', 3: 'd', 4: 'e', 5: 'f', 6: 'g', 7: 'h', 8: 'i', 9: 'j', 10: 'k', 11: 'l', 12: 'm', 13: 'n', 14: 'o', 15: 'p', 16: 'q', 17: 'r', 18: 's', 19: 't', 20: 'u', 21: 'v', 22: 'w', 23: 'x', 24: 'y', 25: 'z'}\n",
      "Requirement already satisfied: wordninja in /opt/sagemath-9.1/local/lib/python3.7/site-packages (2.0.0)\n"
     ]
    }
   ],
   "source": [
    "#Utility libraries, functions and dictionaries\n",
    "from sympy import *\n",
    "from math import ceil\n",
    "\n",
    "toAscii = {}\n",
    "toAlphabet = {}\n",
    "\n",
    "string='abcdefghijklmnopqrstuvwxyz'\n",
    "for i in range(0,26):\n",
    "    toAscii[string[i]] = i\n",
    "    toAlphabet[i] = string[i]\n",
    "print(toAscii)\n",
    "print()\n",
    "print(toAlphabet)\n",
    "\n",
    "def preprocess(text):   #preprocess text by removing non alphabetic characters\n",
    "    text = list(text)\n",
    "    for i in range(len(text)):\n",
    "        if not text[i].isalpha():\n",
    "            text[i]=''\n",
    "    text = ''.join(text)\n",
    "    return text.lower()\n",
    "\n",
    "def mod26(number): #returns (number)mod26 value\n",
    "    return number%26\n",
    "\n",
    "def mod26Inverse(number): #return multiplicative inverse in mod26 if exists else return 0 (indicating no inverse)\n",
    "    number = mod26(number)\n",
    "    for i in range(1, 26): \n",
    "        if mod26(number*i)==1: \n",
    "            return i\n",
    "    else:\n",
    "        return 0\n",
    "    \n",
    "dict_list = []\n",
    "with open(\"words.txt\",mode='r') as f:\n",
    "    dict_list = f.readlines()\n",
    "word_list = [ i.replace(\"\\n\",\"\") for i in dict_list]\n",
    "\n",
    "def with_spaces(text):   #add spaces in spaceless sentece by looking up at dictionary\n",
    "    text = list(preprocess(text))\n",
    "    words = []\n",
    "    word_1 = []\n",
    "    word_2 = []\n",
    "    start=0\n",
    "    end=0\n",
    "    i=0\n",
    "    k=0\n",
    "    while i<len(text):\n",
    "        word_1.append(text[i])\n",
    "        if ''.join(word_1) in word_list:\n",
    "            end=i\n",
    "        if i==len(text)-1:\n",
    "            if(''.join(list(text[start:end+1]))==''): break\n",
    "            words.append(''.join(list(text[start:end+1])))\n",
    "            word_1 = []\n",
    "            i=end\n",
    "            start=i+1\n",
    "        i+=1\n",
    "    return \" \".join(words)\n",
    "\n",
    "! pip3 install wordninja\n",
    "import wordninja# NLP library which adds spaces to the sentence and outputs most probable sentence"
   ]
  },
  {
   "cell_type": "markdown",
   "metadata": {},
   "source": [
    "### Hill cipher Encryption"
   ]
  },
  {
   "cell_type": "code",
   "execution_count": 2,
   "metadata": {},
   "outputs": [],
   "source": [
    "def HillCipherEncryption(PlainText,m,key): #key dimentions m*m\n",
    "    if mod26Inverse(key.det())==0:\n",
    "        return f'Inverse does not exist for the given key matrix'\n",
    "    PText = list(preprocess(PlainText)) #creates list of characters after removing spaces and changing case to lower\n",
    "    dummy_char = 'z'\n",
    "    PText += [dummy_char]*(m-(len(PText)%m)) #insert dummy char to match block size of m\n",
    "    P_ascii = [ toAscii[i] for i in PText ]\n",
    "    rows = ceil(len(PText)/m)\n",
    "    columns = m\n",
    "    P_Matrix = Matrix(int(rows),int(columns),P_ascii)\n",
    "    #print(\"Plaintext matrix\",P_Matrix)\n",
    "    C_Matrix = mod26(P_Matrix*key)      #Encryption C=(P*Key)mod26\n",
    "    #print(\"Ciphertext matrix\",C_Matrix)\n",
    "    CText = []\n",
    "    for C in C_Matrix:\n",
    "        CText.append(toAlphabet[C])\n",
    "    CipherText = ''.join(CText)\n",
    "    return CipherText"
   ]
  },
  {
   "cell_type": "code",
   "execution_count": 3,
   "metadata": {},
   "outputs": [
    {
     "data": {
      "text/plain": [
       "'vulqfhdxrhcbnrpijuhhhverihqfwtumqxrychafwtumqxryszocoqxryszoartxeyypkwvsrjgvpmmpmwlksduxrykdubwrvkwoxvktoweqhmhuxpyifycczxk'"
      ]
     },
     "execution_count": 3,
     "metadata": {},
     "output_type": "execute_result"
    }
   ],
   "source": [
    "PlainText = \"The Hill cipher is an example of a block cipher. A block cipher is a cipher in which groups of letters are enciphered together in equal length blocks.\"\n",
    "m = 3\n",
    "matrix_elements = [23,11,9,10,7,4,15,12,18]\n",
    "key = Matrix(int(m),int(m),matrix_elements)\n",
    "HillCipherEncryption(PlainText,m,key)"
   ]
  },
  {
   "cell_type": "markdown",
   "metadata": {},
   "source": [
    "### Hill cipher Decryption"
   ]
  },
  {
   "cell_type": "code",
   "execution_count": 4,
   "metadata": {},
   "outputs": [],
   "source": [
    "def HillCipherDecryption(CipherText,m,key): #key dimentions m*m\n",
    "    if mod26Inverse(key.det())==0:\n",
    "        return f'Inverse does not exist for the given key matrix'\n",
    "    CText = list(preprocess(CipherText)) #creates list of characters after removing spaces and changing case to lower\n",
    "    C_ascii = [ toAscii[i] for i in CText ]\n",
    "    rows = ceil(len(CText)/m)\n",
    "    columns = m\n",
    "    C_Matrix = Matrix(int(rows),int(columns),C_ascii)\n",
    "    P_Matrix = mod26(C_Matrix*key.inv_mod(26))\n",
    "    PText = []\n",
    "    for P in P_Matrix:\n",
    "        PText.append(toAlphabet[P])\n",
    "    PlainText = ''.join(PText)\n",
    "    return PlainText"
   ]
  },
  {
   "cell_type": "code",
   "execution_count": 5,
   "metadata": {},
   "outputs": [
    {
     "data": {
      "text/plain": [
       "'thehillcipherisanexampleofablockcipherablockcipherisacipherinwhichgroupsoflettersareencipheredtogetherinequallengthblockszz'"
      ]
     },
     "execution_count": 5,
     "metadata": {},
     "output_type": "execute_result"
    }
   ],
   "source": [
    "CipherText = 'vulqfhdxrhcbnrpijuhhhverihqfwtumqxrychafwtumqxryszocoqxryszoartxeyypkwvsrjgvpmmpmwlksduxrykdubwrvkwoxvktoweqhmhuxpyifycczxk'\n",
    "m = 3\n",
    "matrix_elements = [23,11,9,10,7,4,15,12,18]\n",
    "key = Matrix(int(m),int(m),matrix_elements)\n",
    "HillCipherDecryption(CipherText,m,key)"
   ]
  },
  {
   "cell_type": "code",
   "execution_count": 6,
   "metadata": {},
   "outputs": [
    {
     "data": {
      "text/plain": [
       "'the hill cipher isa ne xa mp leo fab lock cipher ab lock cipher isa cipher in which groups of letters are en cipher edt og ether in equal length blocks zz'"
      ]
     },
     "execution_count": 6,
     "metadata": {},
     "output_type": "execute_result"
    }
   ],
   "source": [
    "#adding spaces using self made function\n",
    "with_spaces('thehillcipherisanexampleofablockcipherablockcipherisacipherinwhichgroupsoflettersareencipheredtogetherinequallengthblockszz')"
   ]
  },
  {
   "cell_type": "code",
   "execution_count": 7,
   "metadata": {},
   "outputs": [
    {
     "data": {
      "text/plain": [
       "'the hill cipher is an example of a block cipher a block cipher is a cipher in which groups of letters are en ciphered together in equal length blocks zz'"
      ]
     },
     "execution_count": 7,
     "metadata": {},
     "output_type": "execute_result"
    }
   ],
   "source": [
    "#adding spaces using nlp library\n",
    "' '.join(wordninja.split('thehillcipherisanexampleofablockcipherablockcipherisacipherinwhichgroupsoflettersareencipheredtogetherinequallengthblockszz'))"
   ]
  },
  {
   "cell_type": "markdown",
   "metadata": {},
   "source": [
    "### Input/Output file read/write"
   ]
  },
  {
   "cell_type": "code",
   "execution_count": 8,
   "metadata": {},
   "outputs": [
    {
     "name": "stdout",
     "output_type": "stream",
     "text": [
      "Example  1 Encrypted text\n",
      " vulqfhdxrhcbnrpijuhhhverihqfwtumqxrychafwtumqxryszocoqxryszoartxeyypkwvsrjgvpmmpmwlksduxrykdubwrvkwoxvktoweqhmhuxpyifycczxk\n",
      "\n",
      "Example  1 Decrypted text\n",
      " thehillcipherisanexampleofablockcipherablockcipherisacipherinwhichgroupsoflettersareencipheredtogetherinequallengthblockszz\n",
      "\n",
      "Example  1 Text after adding spaces\n",
      " the hill cipher is an example of a block cipher a block cipher is a cipher in which groups of letters are en ciphered together in equal length blocks zz\n",
      "\n",
      "Example  2 Encrypted text\n",
      " Inverse does not exist for the given key matrix\n",
      "\n",
      "Example  2 Decrypted text\n",
      " Inverse does not exist for the given key matrix\n",
      "\n",
      "Example  2 Text after adding spaces\n",
      " Inverse does not exist for the given key matrix\n",
      "\n",
      "Example  3 Encrypted text\n",
      " qrmxtrlwsddbbpmmbcprqnvzvyswcauexufysvkwixsczazpdpncjiasbojljvpabscqhtxgqmoiapysxiqhetirhitzgjqterxqvvtbmdkewkihezqqpubuzwgmgxauybplrmiuvqfdxufysvkwixscyfhjpwnelhrvtjkmnqmn\n",
      "\n",
      "Example  3 Decrypted text\n",
      " hillsmajorcontributionwastheuseofmathematicstodesignandanalysecryptosystemsitisimportanttonotethattheanalysisofthisalgorithmrequiresabranchofmathematicsknownasnumbertheoryz\n",
      "\n",
      "Example  3 Text after adding spaces\n",
      " hills major contribution was the use of mathematics to design and analyse cryptosystems it is important to note that the analysis of this algorithm requires a branch of mathematics known as number theory z\n",
      "\n"
     ]
    }
   ],
   "source": [
    "with open(\"B180522CS_SINGAM_2_I.txt\",'r') as f1:\n",
    "    lines = f1.readlines()\n",
    "    file = [ line.replace(\"\\n\",\"\") for line in lines]\n",
    "\n",
    "with open(\"B180522CS_SINGAM_2_O.txt\",'w') as f2:\n",
    "    j=1\n",
    "    for i in range(0,len(file)-2,3):\n",
    "        ciphertext =file[i]\n",
    "        m = int(file[i+1])\n",
    "        matrix_elements = list(map(int,file[i+2].split(',')))\n",
    "        encrypted_text = HillCipherEncryption(ciphertext,int(m),Matrix(int(m),int(m),matrix_elements))\n",
    "        print(\"Example \",j,'Encrypted text\\n',encrypted_text+'\\n')\n",
    "        f2.write(f\"Example {j} Encrypted text\\n\")\n",
    "        f2.write(encrypted_text+\"\\n\\n\")\n",
    "        decrypted_text = HillCipherDecryption(encrypted_text,int(m),Matrix(int(m),int(m),matrix_elements))\n",
    "        print(\"Example \",j,'Decrypted text\\n',decrypted_text+'\\n')\n",
    "        f2.write(f\"Example {j} Decrypted text\\n\")\n",
    "        f2.write(decrypted_text+\"\\n\\n\")\n",
    "        spaces = ' '.join(wordninja.split(decrypted_text))\n",
    "        print(\"Example \",j,'Text after adding spaces\\n',spaces+'\\n')\n",
    "        f2.write(f\"Example {j} Text after adding spaces\\n\")\n",
    "        f2.write(spaces+\"\\n\\n\")\n",
    "        j+=1"
   ]
  },
  {
   "cell_type": "markdown",
   "metadata": {},
   "source": [
    "# Cryptanalysis"
   ]
  },
  {
   "cell_type": "markdown",
   "metadata": {},
   "source": [
    "### Known Plain Text Attack"
   ]
  },
  {
   "cell_type": "markdown",
   "metadata": {},
   "source": [
    "Eve can do plaintext attack if she knows the value of m and knows values of atleast m plaintext/ciphertext pairs\n",
    "\n",
    "Assume eve know m = 4 and intercepted 4 blocks of plain and cipher text pairs \n",
    "\n",
    "Plaintext block ------------------------ Ciphertext block\n",
    "\n",
    "[0, 19, 8, 14] -------------------------- [5, 24, 19, 21]\n",
    "\n",
    "[19, 22, 8, 11] ------------------------- [5, 17, 17, 1]\n",
    "\n",
    "[21, 0, 11, 20] ------------------------- [16, 8, 17, 0]\n",
    "\n",
    "[4, 18, 3, 0] --------------------------- [22, 8, 9, 13]"
   ]
  },
  {
   "cell_type": "code",
   "execution_count": 9,
   "metadata": {},
   "outputs": [],
   "source": [
    "def KnownPlainTextAttack(m,PlainTextBlock,CipherTextBlock):\n",
    "    m = int(m)\n",
    "    P_matrix = Matrix(m,m,PlainTextBlock)\n",
    "    C_matrix = Matrix(m,m,CipherTextBlock)\n",
    "    if mod26Inverse(P_matrix.det())==0:\n",
    "        return \"Inverse does not exist for given plaintext\"\n",
    "    key = mod26(P_matrix.inv_mod(26)*C_matrix)\n",
    "    return key"
   ]
  },
  {
   "cell_type": "code",
   "execution_count": 10,
   "metadata": {},
   "outputs": [
    {
     "data": {
      "text/latex": [
       "$\\displaystyle \\left[\\begin{matrix}10 & 8 & 12 & 19\\\\3 & 2 & 5 & 21\\\\2 & 6 & 9 & 9\\\\23 & 3 & 21 & 18\\end{matrix}\\right]$"
      ],
      "text/plain": [
       "Matrix([\n",
       "[10, 8, 12, 19],\n",
       "[ 3, 2,  5, 21],\n",
       "[ 2, 6,  9,  9],\n",
       "[23, 3, 21, 18]])"
      ]
     },
     "execution_count": 10,
     "metadata": {},
     "output_type": "execute_result"
    }
   ],
   "source": [
    "PlainTextBlock = [0,19,8,14,19,22,8,11,21,0,11,20,4,18,3,0]\n",
    "CipherTextBlock = [5,24,19,21,5,17,17,1,16,8,17,0,22,8,9,13]\n",
    "m = 4\n",
    "key = KnownPlainTextAttack(m,PlainTextBlock,CipherTextBlock)\n",
    "key"
   ]
  },
  {
   "cell_type": "code",
   "execution_count": 11,
   "metadata": {},
   "outputs": [
    {
     "data": {
      "text/plain": [
       "'iliqmmwsfpmabnizbmlxtbwikryjostookthwntktvkdrkwchobqbivxgeievwrlpfxisorqyszunhnnwzmtyejocjyiddwjfmbdwtiodknkwbqelpbrhpgklqmmacdaizszlllnrffuoovvscfinhnnxtnyvblcqmdhzszxhzybfwxnlndydhhoxjsy'"
      ]
     },
     "execution_count": 11,
     "metadata": {},
     "output_type": "execute_result"
    }
   ],
   "source": [
    "CipherText = 'iliqmmwsfpmabnizbmlxtbwikryjostookthwntktvkdrkwchobqbivxgeievwrlpfxisorqyszunhnnwzmtyejocjyiddwjfmbdwtiodknkwbqelpbrhpgklqmmacdaizszlllnrffuoovvscfinhnnxtnyvblcqmdhzszxhzybfwxnlndydhhoxjsy'\n",
    "CipherText"
   ]
  },
  {
   "cell_type": "code",
   "execution_count": 12,
   "metadata": {},
   "outputs": [
    {
     "data": {
      "text/plain": [
       "'thebasichillcipherisvulnerabletoaknownplaintextattackbecauseitiscompletelylinearanopponentwhointerceptsnplaintextciphertextcharacterpairscansetupalinearsystemwhichcanusuallybeeasilysolvedz'"
      ]
     },
     "execution_count": 12,
     "metadata": {},
     "output_type": "execute_result"
    }
   ],
   "source": [
    "HillCipherDecryption(CipherText,m,key)"
   ]
  },
  {
   "cell_type": "code",
   "execution_count": 13,
   "metadata": {},
   "outputs": [
    {
     "data": {
      "text/plain": [
       "'the basic hill cipher is vulnerable to ak now np lai nt ext attack because it is completely linear an opponent who intercept snp lai nt ext cipher text character pairs cans et up ali near system which can usually bee asi lys ol ve dz'"
      ]
     },
     "execution_count": 13,
     "metadata": {},
     "output_type": "execute_result"
    }
   ],
   "source": [
    "#adding spaces using self made function\n",
    "with_spaces('thebasichillcipherisvulnerabletoaknownplaintextattackbecauseitiscompletelylinearanopponentwhointerceptsnplaintextciphertextcharacterpairscansetupalinearsystemwhichcanusuallybeeasilysolvedz')"
   ]
  },
  {
   "cell_type": "code",
   "execution_count": 14,
   "metadata": {},
   "outputs": [
    {
     "data": {
      "text/plain": [
       "'the basic hill cipher is vulnerable to a known plaintext attack because it is completely linear an opponent who intercepts n plaintext ciphertext character pairs can setup a linear system which can usually be easily solved z'"
      ]
     },
     "execution_count": 14,
     "metadata": {},
     "output_type": "execute_result"
    }
   ],
   "source": [
    "#adding spaces using nlp library\n",
    "' '.join(wordninja.split('thebasichillcipherisvulnerabletoaknownplaintextattackbecauseitiscompletelylinearanopponentwhointerceptsnplaintextciphertextcharacterpairscansetupalinearsystemwhichcanusuallybeeasilysolvedz'))"
   ]
  }
 ],
 "metadata": {
  "kernelspec": {
   "display_name": "SageMath 9.1",
   "language": "sage",
   "name": "sagemath"
  },
  "language_info": {
   "codemirror_mode": {
    "name": "ipython",
    "version": 3
   },
   "file_extension": ".py",
   "mimetype": "text/x-python",
   "name": "python",
   "nbconvert_exporter": "python",
   "pygments_lexer": "ipython3",
   "version": "3.7.3"
  }
 },
 "nbformat": 4,
 "nbformat_minor": 2
}
