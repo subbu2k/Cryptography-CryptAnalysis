{
 "cells": [
  {
   "cell_type": "code",
   "execution_count": 1,
   "metadata": {},
   "outputs": [
    {
     "name": "stdout",
     "output_type": "stream",
     "text": [
      "{'a': 0, 'b': 1, 'c': 2, 'd': 3, 'e': 4, 'f': 5, 'g': 6, 'h': 7, 'i': 8, 'j': 9, 'k': 10, 'l': 11, 'm': 12, 'n': 13, 'o': 14, 'p': 15, 'q': 16, 'r': 17, 's': 18, 't': 19, 'u': 20, 'v': 21, 'w': 22, 'x': 23, 'y': 24, 'z': 25}\n",
      "\n",
      "{0: 'a', 1: 'b', 2: 'c', 3: 'd', 4: 'e', 5: 'f', 6: 'g', 7: 'h', 8: 'i', 9: 'j', 10: 'k', 11: 'l', 12: 'm', 13: 'n', 14: 'o', 15: 'p', 16: 'q', 17: 'r', 18: 's', 19: 't', 20: 'u', 21: 'v', 22: 'w', 23: 'x', 24: 'y', 25: 'z'}\n",
      "Requirement already satisfied: wordninja in /opt/sagemath-9.1/local/lib/python3.7/site-packages (2.0.0)\n"
     ]
    }
   ],
   "source": [
    "#Utility libraries, functions and dictionaries\n",
    "from sympy import *\n",
    "from math import ceil\n",
    "from itertools import permutations, product\n",
    "\n",
    "toAscii = {}\n",
    "toAlphabet = {}\n",
    "\n",
    "string='abcdefghijklmnopqrstuvwxyz'\n",
    "for i in range(0,26):\n",
    "    toAscii[string[i]] = i\n",
    "    toAlphabet[i] = string[i]\n",
    "print(toAscii)\n",
    "print()\n",
    "print(toAlphabet)\n",
    "\n",
    "def preprocess(text):\n",
    "    text = list(text)\n",
    "    for i in range(len(text)):\n",
    "        if not text[i].isalpha():\n",
    "            text[i]=''\n",
    "    text = ''.join(text)\n",
    "    return text.lower()\n",
    "\n",
    "def mod26(number): #returns (number)mod26 value\n",
    "    return number%26\n",
    "\n",
    "def mod26Inverse(number): #return multiplicative inverse in mod26 if exists else return 0 (indicating no inverse)\n",
    "    number = mod26(number)\n",
    "    for i in range(1, 26): \n",
    "        if mod26(number*i)==1: \n",
    "            return i\n",
    "    else:\n",
    "        return 0\n",
    "    \n",
    "dict_list = []\n",
    "with open(\"words.txt\",mode='r') as f:\n",
    "    dict_list = f.readlines()\n",
    "word_list = [ i.replace(\"\\n\",\"\") for i in dict_list]\n",
    "    \n",
    "def with_spaces(text):   #add spaces in spaceless sentece by looking up at dictionary\n",
    "    text = list(preprocess(text))\n",
    "    words = []\n",
    "    word_1 = []\n",
    "    word_2 = []\n",
    "    start=0\n",
    "    end=0\n",
    "    i=0\n",
    "    k=0\n",
    "    while i<len(text):\n",
    "        word_1.append(text[i])\n",
    "        if ''.join(word_1) in word_list:\n",
    "            end=i\n",
    "        if i==len(text)-1:\n",
    "            if(''.join(list(text[start:end+1]))==''): break\n",
    "            words.append(''.join(list(text[start:end+1])))\n",
    "            word_1 = []\n",
    "            i=end\n",
    "            start=i+1\n",
    "        i+=1\n",
    "    return \" \".join(words)\n",
    "\n",
    "! pip3 install wordninja\n",
    "import wordninja# NLP library which adds spaces to the sentence and outputs most probable sentence"
   ]
  },
  {
   "cell_type": "markdown",
   "metadata": {},
   "source": [
    "# Keyless Transposition Cipher"
   ]
  },
  {
   "cell_type": "markdown",
   "metadata": {},
   "source": [
    "### Keyless Transposition cipher encryption"
   ]
  },
  {
   "cell_type": "code",
   "execution_count": 2,
   "metadata": {},
   "outputs": [],
   "source": [
    "def KeylessTranspositionCipherEncryption(PlainText,m):\n",
    "    PText = list(preprocess(PlainText))\n",
    "    bogus = 0\n",
    "    PText += [bogus]*(m-(len(PText)%m))\n",
    "    rows = ceil(len(PText)/m)\n",
    "    columns = m\n",
    "    P_matrix = Matrix(int(rows),int(columns),PText)\n",
    "    C_matrix = P_matrix.transpose()\n",
    "    CText = [ str(i) for i in list(C_matrix) if i!=bogus]\n",
    "    CipherText = ''.join(CText)\n",
    "    return CipherText"
   ]
  },
  {
   "cell_type": "code",
   "execution_count": 3,
   "metadata": {},
   "outputs": [
    {
     "data": {
      "text/plain": [
       "'sestishunaeeitpipwwstsksmroohheehtespasneirdeaylnicrceiprl'"
      ]
     },
     "execution_count": 3,
     "metadata": {},
     "output_type": "execute_result"
    }
   ],
   "source": [
    "PlainText = \"Simple transposition ciphers, which were used in the past, are keyless.\"\n",
    "number_of_columns = 5\n",
    "KeylessTranspositionCipherEncryption(PlainText,number_of_columns)"
   ]
  },
  {
   "cell_type": "markdown",
   "metadata": {},
   "source": [
    "### Keyless Transposition cipher decryption"
   ]
  },
  {
   "cell_type": "code",
   "execution_count": 4,
   "metadata": {},
   "outputs": [],
   "source": [
    "def KeylessTranspositionCipherDecryption(CipherText,m):\n",
    "    CText = list(preprocess(CipherText))\n",
    "    bogus = 0\n",
    "    for i in range(len(CText)%m+1,m+1):    \n",
    "        CText.insert(i*ceil(len(CText)/m)-1,bogus)\n",
    "    cols = ceil(len(CText)/m)\n",
    "    rows = m\n",
    "    C_matrix = Matrix(int(rows),int(cols),CText)\n",
    "    P_matrix = C_matrix.transpose()\n",
    "    PText = [ str(i) for i in list(P_matrix) if i!=bogus]\n",
    "    PlainText = ''.join(PText)\n",
    "    return PlainText"
   ]
  },
  {
   "cell_type": "code",
   "execution_count": 5,
   "metadata": {},
   "outputs": [
    {
     "data": {
      "text/plain": [
       "'simpletranspositioncipherswhichwereusedinthepastarekeyless'"
      ]
     },
     "execution_count": 5,
     "metadata": {},
     "output_type": "execute_result"
    }
   ],
   "source": [
    "CipherText = \"sestishunaeeitpipwwstsksmroohheehtespasneirdeaylnicrceiprl\"\n",
    "number_of_columns = 5\n",
    "KeylessTranspositionCipherDecryption(CipherText,number_of_columns)"
   ]
  },
  {
   "cell_type": "code",
   "execution_count": 6,
   "metadata": {},
   "outputs": [
    {
     "data": {
      "text/plain": [
       "'simple trans position cipher sw hi ch were used int hep ast are key less'"
      ]
     },
     "execution_count": 6,
     "metadata": {},
     "output_type": "execute_result"
    }
   ],
   "source": [
    "#adding spaces using self made function\n",
    "with_spaces(\"simpletranspositioncipherswhichwereusedinthepastarekeyless\")"
   ]
  },
  {
   "cell_type": "code",
   "execution_count": 7,
   "metadata": {},
   "outputs": [
    {
     "data": {
      "text/plain": [
       "'simple transposition ciphers which were used in the past are key less'"
      ]
     },
     "execution_count": 7,
     "metadata": {},
     "output_type": "execute_result"
    }
   ],
   "source": [
    "#adding spaces using nlp library\n",
    "' '.join(wordninja.split(\"simpletranspositioncipherswhichwereusedinthepastarekeyless\"))"
   ]
  },
  {
   "cell_type": "markdown",
   "metadata": {},
   "source": [
    "# Keyed Transposition Cipher"
   ]
  },
  {
   "cell_type": "markdown",
   "metadata": {},
   "source": [
    "### Keyed Transposition cipher encryption"
   ]
  },
  {
   "cell_type": "code",
   "execution_count": 8,
   "metadata": {},
   "outputs": [],
   "source": [
    "def KeyedTranspositionCipherEncryption(PlainText,block_size,permutation_key):\n",
    "    key = [ i-1 for i in permutation_key ]\n",
    "    PText = list(preprocess(PlainText))\n",
    "    dummy_char = 'z'\n",
    "    PText += [dummy_char]*(block_size-len(PText)%block_size)\n",
    "    CText = []\n",
    "    for i in range(0,len(PText),block_size):\n",
    "        block = PText[i:i+block_size]\n",
    "        permuted = [' ']*block_size\n",
    "        for j in range(block_size):\n",
    "            permuted[j] = block[key[j]]\n",
    "        CText.extend(permuted)\n",
    "    CipherText = ''.join(CText)\n",
    "    return CipherText"
   ]
  },
  {
   "cell_type": "code",
   "execution_count": 9,
   "metadata": {},
   "outputs": [
    {
     "data": {
      "text/plain": [
       "'eemyntaacttkonshitzg'"
      ]
     },
     "execution_count": 9,
     "metadata": {},
     "output_type": "execute_result"
    }
   ],
   "source": [
    "PlainText = \"Enemy attacks tonight\"\n",
    "block_size = 5\n",
    "permutation_key = [3,1,4,5,2]\n",
    "KeyedTranspositionCipherEncryption(PlainText,block_size,permutation_key)"
   ]
  },
  {
   "cell_type": "markdown",
   "metadata": {},
   "source": [
    "### Keyed Transposition cipher decryption"
   ]
  },
  {
   "cell_type": "code",
   "execution_count": 10,
   "metadata": {},
   "outputs": [],
   "source": [
    "def KeyedTranspositionCipherDecryption(CipherText,block_size,permutation_key):\n",
    "    key = [ i-1 for i in permutation_key ]\n",
    "    CText = list(preprocess(CipherText))\n",
    "    PText = []\n",
    "    for i in range(0,len(CText),block_size):\n",
    "        block = CText[i:i+block_size]\n",
    "        permuted = [' ']*block_size\n",
    "        for j in range(block_size):\n",
    "            permuted[j] = block[key.index(j)]\n",
    "        PText.extend(permuted)\n",
    "    PlainText = ''.join(PText)\n",
    "    return PlainText"
   ]
  },
  {
   "cell_type": "code",
   "execution_count": 11,
   "metadata": {},
   "outputs": [
    {
     "data": {
      "text/plain": [
       "'enemyattackstonightz'"
      ]
     },
     "execution_count": 11,
     "metadata": {},
     "output_type": "execute_result"
    }
   ],
   "source": [
    "CipherText = \"eemyntaacttkonshitzg\"\n",
    "block_size = 5\n",
    "permutation_key = [3,1,4,5,2]\n",
    "KeyedTranspositionCipherDecryption(CipherText,block_size,permutation_key)"
   ]
  },
  {
   "cell_type": "code",
   "execution_count": 12,
   "metadata": {},
   "outputs": [
    {
     "data": {
      "text/plain": [
       "'enemy attacks tonight z'"
      ]
     },
     "execution_count": 12,
     "metadata": {},
     "output_type": "execute_result"
    }
   ],
   "source": [
    "#adding spaces using self made function\n",
    "with_spaces(\"enemyattackstonightz\")"
   ]
  },
  {
   "cell_type": "code",
   "execution_count": 13,
   "metadata": {},
   "outputs": [
    {
     "data": {
      "text/plain": [
       "'enemy attacks tonight z'"
      ]
     },
     "execution_count": 13,
     "metadata": {},
     "output_type": "execute_result"
    }
   ],
   "source": [
    "#adding spaces using nlp library\n",
    "' '.join(wordninja.split('enemyattackstonightz'))"
   ]
  },
  {
   "cell_type": "markdown",
   "metadata": {},
   "source": [
    "### Input/Output File read/write"
   ]
  },
  {
   "cell_type": "code",
   "execution_count": 14,
   "metadata": {},
   "outputs": [
    {
     "name": "stdout",
     "output_type": "stream",
     "text": [
      "Example  1 Encrypted text by keyless transposition cipher\n",
      " iyghrptceahfriyceinlusltaheciogrtotcexntsranhaenpryaoiirmoeyowhptsdnoaeridonausettirtsuamtoeixctaansopiednpnhtoihbifixefargrlymhhptcttpuifpntroptsinhstoctbihsoeytpntstcdteassaeheoieetotlt\n",
      "\n",
      "Example  1 Decrypted text by keyless transposition cipher\n",
      " incryptographyatranspositioncipherisamethodofencryptionbywhichthepositionsheldbyunitsofplaintextareshiftedaccordingtoaregularsystemsothattheciphertextconstitutesapermutationoftheplaintext\n",
      "\n",
      "Example  1 Text after adding spaces\n",
      " in cryptography a transposition cipher is a method of encryption by which the positions held by units of plaintext are shifted according to a regular system so that the ciphertext constitutes a permutation of the plaintext\n",
      "\n",
      "Example  1 Encrypted text by keyed transposition cipher\n",
      " nrciytgoprpyhaarnatsoisptocniihrepiaemstoodhfnrceytoipnyhwbihhtceoisptosnihlbdeyntiusflpoanetixaertsitfheaccdodnirgorateualgrytssestomhthtaeihpcetxertosnctttuieaepsruatmtoonifhpetlitnaetzzxz\n",
      "\n",
      "Example  1 Decrypted text by keyed transposition cipher\n",
      " incryptographyatranspositioncipherisamethodofencryptionbywhichthepositionsheldbyunitsofplaintextareshiftedaccordingtoaregularsystemsothattheciphertextconstitutesapermutationoftheplaintext\n",
      "\n",
      "Example  1 Text after adding spaces\n",
      " in cryptography a transposition cipher is a method of encryption by which the positions held by units of plaintext are shifted according to a regular system so that the ciphertext constitutes a permutation of the plaintext\n",
      "\n",
      "Example  2 Encrypted text by keyless transposition cipher\n",
      " thoiaeeomtaitsetiotnutpheftnpxraibvieceteavnotaotsgltdtcieodhrinnecdtrhieaiehajfnoasocdrteidesdisreleuinrpnrasicseuctnremlcnstaosyneortrnhhtedaytcuhcstpifny\n",
      "\n",
      "Example  2 Decrypted text by keyless transposition cipher\n",
      " thatistheorderoftheunitsischangedtheplaintextisreorderedmathematicallyabijectivefunctionisusedonthecharacterspositionstoencryptandaninversefunctiontodecrypt\n",
      "\n",
      "Example  2 Text after adding spaces\n",
      " that is the order of the units is changed the plaintext is reordered mathematically a bijective function is used on the characters positions to encrypt and an inverse function to decrypt\n",
      "\n",
      "Example  2 Encrypted text by keyed transposition cipher\n",
      " atthtihsredooefretuhtnsicihsgaenhdetapilenxtstriredoeedrtmhaaetmailcalbyeicjvteinfcuotniuissoendetchrhaaecrtosspiiottnoscerntyapanndvienerfscutnnitoeocdprtyzzzz\n",
      "\n",
      "Example  2 Decrypted text by keyed transposition cipher\n",
      " thatistheorderoftheunitsischangedtheplaintextisreorderedmathematicallyabijectivefunctionisusedonthecharacterspositionstoencryptandaninversefunctiontodecrypt\n",
      "\n",
      "Example  2 Text after adding spaces\n",
      " that is the order of the units is changed the plaintext is reordered mathematically a bijective function is used on the characters positions to encrypt and an inverse function to decrypt\n",
      "\n"
     ]
    }
   ],
   "source": [
    "with open(\"B180522CS_SINGAM_5_I.txt\",'r') as f1:\n",
    "    lines = f1.readlines()\n",
    "    file = [ line.replace(\"\\n\",\"\") for line in lines]\n",
    "\n",
    "with open(\"B180522CS_SINGAM_5_O.txt\",'w') as f2:\n",
    "    j=1\n",
    "    for i in range(0,len(file)-3,4):\n",
    "        ciphertext =file[i]\n",
    "        no_of_cols = int(file[i+1])\n",
    "        block_size = int(file[i+2])\n",
    "        key = list(map(int,file[i+3].split(',')))\n",
    "        \n",
    "        encrypted_text_1 = KeylessTranspositionCipherEncryption(ciphertext,no_of_cols)\n",
    "        print(\"Example \",j,'Encrypted text by keyless transposition cipher\\n',encrypted_text_1+'\\n')\n",
    "        f2.write(f\"Example {j} Encrypted text by keyless transposition cipher\\n\")\n",
    "        f2.write(encrypted_text_1+\"\\n\\n\")\n",
    "        decrypted_text_1 = KeylessTranspositionCipherDecryption(encrypted_text_1,no_of_cols)\n",
    "        print(\"Example \",j,'Decrypted text by keyless transposition cipher\\n',decrypted_text_1+'\\n')\n",
    "        f2.write(f\"Example {j} Decrypted text by keyless transposition cipher\\n\")\n",
    "        f2.write(decrypted_text_1+\"\\n\\n\")\n",
    "        spaces = ' '.join(wordninja.split(decrypted_text_1))\n",
    "        print(\"Example \",j,'Text after adding spaces\\n',spaces+'\\n')\n",
    "        f2.write(f\"Example {j} Text after adding spaces\\n\")\n",
    "        f2.write(spaces+\"\\n\")\n",
    "        \n",
    "        encrypted_text_2 = KeyedTranspositionCipherEncryption(ciphertext,block_size,key)\n",
    "        print(\"Example \",j,'Encrypted text by keyed transposition cipher\\n',encrypted_text_2+'\\n')\n",
    "        f2.write(f\"Example {j} Encrypted text by keyed transposition cipher\\n\")\n",
    "        f2.write(encrypted_text_2+\"\\n\\n\")\n",
    "        decrypted_text_2 = KeylessTranspositionCipherDecryption(encrypted_text_1,no_of_cols)\n",
    "        print(\"Example \",j,'Decrypted text by keyed transposition cipher\\n',decrypted_text_2+'\\n')\n",
    "        f2.write(f\"Example {j} Decrypted text by keyed transposition cipher\\n\")\n",
    "        f2.write(decrypted_text_2+\"\\n\\n\")\n",
    "        spaces = ' '.join(wordninja.split(decrypted_text_2))\n",
    "        print(\"Example \",j,'Text after adding spaces\\n',spaces+'\\n')\n",
    "        f2.write(f\"Example {j} Text after adding spaces\\n\")\n",
    "        f2.write(spaces+\"\\n\\n\")\n",
    "        j+=1"
   ]
  },
  {
   "cell_type": "markdown",
   "metadata": {},
   "source": [
    "# Cryptanalysis"
   ]
  },
  {
   "cell_type": "markdown",
   "metadata": {},
   "source": [
    "## Brute force keyless"
   ]
  },
  {
   "cell_type": "code",
   "execution_count": 15,
   "metadata": {},
   "outputs": [],
   "source": [
    "def BruteForceKeylessCipher(CipherText):\n",
    "    possibilities = []\n",
    "    matches = []\n",
    "    matching_words=[]\n",
    "    for m in range(1,26):\n",
    "        text = KeylessTranspositionCipherDecryption(CipherText,m)\n",
    "        count=0\n",
    "        words=[]\n",
    "        possibilities.append(text)\n",
    "        with open(\"words.txt\",mode='r') as f:\n",
    "            for word in f.readlines():\n",
    "                word=word.replace(\"\\n\",\"\")\n",
    "                if len(word)>3 and word in text:\n",
    "                    count += 1\n",
    "                    words.append(word)\n",
    "            matches.append(count)\n",
    "            matching_words.append(words)\n",
    "            \n",
    "    matches_copy = matches.copy()\n",
    "    matches_copy = sorted(matches_copy,reverse=True)\n",
    "    \n",
    "    print(\"Possible text of most probable plaintext after adding spaces by going through dictionary\\n\")\n",
    "    print(with_spaces(possibilities[matches.index(matches_copy[0])]),'\\n')\n",
    "    \n",
    "    print(\"Possible text of most probable plaintext after adding spaces using nlp library\\n\")\n",
    "    spaces = ' '.join(wordninja.split(possibilities[matches.index(matches_copy[0])]))\n",
    "    print(spaces,'\\n')\n",
    "    \n",
    "    print(\"Top 3 probable plain texts using bruteforce attack are\\n\") \n",
    "    for i in range(3):\n",
    "        index = matches.index(matches_copy[i])\n",
    "        print(\"key\",index+1,\"\\nPlaintext\\n\",possibilities[index],\"\\nmatching words count\",matches[index],'\\nmatchingwords',matching_words[index])\n",
    "        print()"
   ]
  },
  {
   "cell_type": "code",
   "execution_count": 16,
   "metadata": {},
   "outputs": [
    {
     "data": {
      "text/plain": [
       "'ioisdcteooruieziemboigsylitetecswprsenssotohnrfmmnxexnuyrnupslrrrbsopoodadaiwfhleidtuneabsgttdtloperatlslerszgfctraeucnehtsdmrotahehasadenhaaucdeeeloiifnmosreaabpathtererirwgsengmifwbwelotirnlobrtrylshsiaokcteiupskenfoereeuntxebumooieaeieiolfeoistlopfisiruaaamteeaymetwouktsrxnptylophasaisieessrtnhnddcnshsnsehooaihhwunanricnrndxeaeoaeoloosctaouyefwnsaeomccucteaetbatndnrmueularhnfawklsddblrnieloislahymhdictetnturaedtloeeateeedapslloaldetpetsersigamemwthlrynrhfttirhasunryoohlkhcasntgncbiheydwgeeiitnterimcetfreeeeonarhaahldecdfotopncearrennilhfdksymvsgoainoetpoeorhfeearraafaapeeieeuweepewnndsdhelfrdslrdlsenninrhfmnryposr'"
      ]
     },
     "execution_count": 16,
     "metadata": {},
     "output_type": "execute_result"
    }
   ],
   "source": [
    "CipherText='ioisdcteooruieziemboigsylitetecswprsenssotohnrfmmnxexnuyrnupslrrrbsopoodadaiwfhleidtuneabsgttdtloperatlslerszgfctraeucnehtsdmrotahehasadenhaaucdeeeloiifnmosreaabpathtererirwgsengmifwbwelotirnlobrtrylshsiaokcteiupskenfoereeuntxebumooieaeieiolfeoistlopfisiruaaamteeaymetwouktsrxnptylophasaisieessrtnhnddcnshsnsehooaihhwunanricnrndxeaeoaeoloosctaouyefwnsaeomccucteaetbatndnrmueularhnfawklsddblrnieloislahymhdictetnturaedtloeeateeedapslloaldetpetsersigamemwthlrynrhfttirhasunryoohlkhcasntgncbiheydwgeeiitnterimcetfreeeeonarhaahldecdfotopncearrennilhfdksymvsgoainoetpoeorhfeearraafaapeeieeuweepewnndsdhelfrdslrdlsenninrhfmnryposr'\n",
    "CipherText"
   ]
  },
  {
   "cell_type": "code",
   "execution_count": 17,
   "metadata": {},
   "outputs": [
    {
     "name": "stdout",
     "output_type": "stream",
     "text": [
      "Possible text of most probable plaintext after adding spaces by going through dictionary\n",
      "\n",
      "in ac ol um na rt ran sp os it ion themes sage is written out in rows of af ix ed length and then read out again column by column and the columns are chosen ins om esc ram bl ed order both the width of ther ow sand the per mutation of the columns are usually defined by ak e y word forex ample the keyword zebra sis of lengths ix so ther ow sar eo fl eng ths ix and the per mutation isd ef in ed by the alphabetical order of the letters int he keyword in are gu la rc ol um na rt ran sp os it ion cipher any spares pace sar ef ill ed with null sin an irregular column art ran sp os it ion cipher the spaces are left blank finally themes sage is read off inc ol um ns int he orders pe ci fi ed by the keyword forex ample suppose we use the keyword zebra sand themes sage wear edi sco ver ed flee at once \n",
      "\n",
      "Possible text of most probable plaintext after adding spaces using nlp library\n",
      "\n",
      "in a column ar transposition the message is written out in rows of a fixed length and then readout again column by column and the columns are chosen in some scrambled order both the width of the rows and the permutation of the columns are usually defined by a keyword for example the keyword zebras is of length six so the rows are of length six and the permutation is defined by the alphabetical order of the letters in the keyword in a regular column ar transposition cipher any spare spaces are filled with nulls in an irregular column ar transposition cipher the spaces are left blank finally the message is read off in columns in the order specified by the keyword for example suppose we use the keyword zebras and the message we are discovered flee at once \n",
      "\n",
      "Top 3 probable plain texts using bruteforce attack are\n",
      "\n",
      "key 17 \n",
      "Plaintext\n",
      " inacolumnartranspositionthemessageiswrittenoutinrowsofafixedlengthandthenreadoutagaincolumnbycolumnandthecolumnsarechoseninsomescrambledorderboththewidthoftherowsandthepermutationofthecolumnsareusuallydefinedbyakeywordforexamplethekeywordzebrasisoflengthsixsotherowsareoflengthsixandthepermutationisdefinedbythealphabeticalorderofthelettersinthekeywordinaregularcolumnartranspositioncipheranysparespacesarefilledwithnullsinanirregularcolumnartranspositioncipherthespacesareleftblankfinallythemessageisreadoffincolumnsintheorderspecifiedbythekeywordforexamplesupposeweusethekeywordzebrasandthemessagewearediscoveredfleeatonce \n",
      "matching words count 104 \n",
      "matchingwords ['with', 'other', 'some', 'than', 'over', 'them', 'message', 'cipher', 'then', 'order', 'read', 'both', 'left', 'again', 'example', 'space', 'hand', 'once', 'word', 'written', 'final', 'cover', 'usually', 'position', 'orders', 'fine', 'length', 'letter', 'regular', 'defined', 'fixed', 'finally', 'specified', 'lord', 'letters', 'keyword', 'covered', 'theme', 'examples', 'define', 'column', 'fill', 'disc', 'gain', 'null', 'wear', 'alpha', 'discover', 'width', 'filled', 'chosen', 'themes', 'echo', 'exam', 'blank', 'columns', 'usual', 'sand', 'discovered', 'spaces', 'tion', 'trans', 'hero', 'pace', 'suppose', 'alphabetical', 'spare', 'spec', 'chose', 'sage', 'rows', 'disco', 'mess', 'hose', 'sofa', 'cove', 'bras', 'pose', 'refill', 'alphabet', 'lengths', 'seth', 'mutation', 'forex', 'heal', 'dinar', 'spares', 'lett', 'ally', 'ample', 'irregular', 'supp', 'zebra', 'theo', 'eaton', 'fore', 'aces', 'ther', 'writ', 'ares', 'flee', 'tran', 'resp', 'fined']\n",
      "\n",
      "key 11 \n",
      "Plaintext\n",
      " inarusaareeouewmaohyeeipugoiuyneasscsosymrordlneiiehhnrcreneefdfaatrhgaewitraertmesncthfobsiisstiaaosdferaeraaromwitethhpuprbononaleioowlhmtsdeeotefncuueizdaledcrnceiahooduardeedeticceyfumahisntdoowbiartsetoteowsnlhalhoeifaloseolppghdopntekneslebfsbehcwyenrieaacenlihtshttaanidarionesrdttayrodenrseuuluanetedtncsairdgnheedhahmannecaesahupcilsbeimwesblfwseatuulihrpgloenllhfdrtokeaaoedssticanraykledityrhldsrntfemindwydslniecfegmlsomutnatevsopopwrwpesetessonkeignorrkudltionhaeekxsstaintantedeninrlafsadrtnrfsborebseohmlpexolirefmearnargitmnrtepenampnxshetoimcoreztuyleeeeyxgenlolmtopnfrtooowfroucexpsitrhsytrehcshefrrribatll \n",
      "matching words count 25 \n",
      "matchingwords ['arts', 'edit', 'mind', 'core', 'ones', 'seat', 'lose', 'earn', 'anne', 'tion', 'hood', 'dale', 'eden', 'mann', 'deed', 'bore', 'tote', 'stain', 'nate', 'renee', 'rene', 'rode', 'bono', 'ante', 'isnt']\n",
      "\n",
      "key 19 \n",
      "Plaintext\n",
      " ipsratloyhatipteftnoroasesimnebssteopdisptarheedoalliitosseoldesatdatalrioeddnoseriewcenhohtpohcsdlniaionodyaannretsaehroeuslnmlstchleodrawkikhorhdueeffotasagcotsomdenraerooizustlsnsuitriredrhwgceefrscecpymrasunffdniexetuteocerlirhceguonhaletoenrrefltempipooatshtnadzmereisstournelfialimialfktyayhtrkrlfsendeowellienushehaemxtuibnoohffricefanbeuciwfpphwaagaedpnoxnnfeofhwnweasekeiineenleiauskdmnosenguahmorssnaltetnyirsybtoteiaaeslmgamehyrsssierinodownrveflngdrruusrmdetchsumiutmennaiicbehbagwntptraltaecclaliaoeresdoaoxaenurtrhhaeytlttbbemsrcneyelipperlaprbtsntienydneocrohatuerdeeerdeowssrpetrmetxaldhwcenrwbehhyoaneeoafgd \n",
      "matching words count 24 \n",
      "matchingwords ['data', 'well', 'send', 'game', 'down', 'tour', 'perl', 'draw', 'rice', 'suit', 'ease', 'temp', 'nose', 'mere', 'feof', 'erin', 'erie', 'tote', 'lien', 'hale', 'alta', 'aero', 'toss', 'serie']\n",
      "\n"
     ]
    }
   ],
   "source": [
    "BruteForceKeylessCipher(CipherText)"
   ]
  },
  {
   "cell_type": "markdown",
   "metadata": {},
   "source": [
    "## Brute force Keyed"
   ]
  },
  {
   "cell_type": "code",
   "execution_count": 18,
   "metadata": {},
   "outputs": [],
   "source": [
    "def BruteForceKeyedCipher(CipherText):\n",
    "    possibilities = []\n",
    "    matches = []\n",
    "    matching_words=[]\n",
    "    permutation_key = []\n",
    "    for m in range(2,8):\n",
    "        if len(CipherText)%m != 0: continue\n",
    "        num = [i+1 for i in range(m)]\n",
    "        permutation = list(permutations(num))\n",
    "        for perm in permutation:\n",
    "            text = KeyedTranspositionCipherDecryption(CipherText,m,list(perm))\n",
    "            permutation_key.append(list(perm))\n",
    "            count=0\n",
    "            words=[]\n",
    "            possibilities.append(text)\n",
    "            with open(\"words.txt\",mode='r') as f:\n",
    "                for word in f.readlines():\n",
    "                    word=word.replace(\"\\n\",\"\")\n",
    "                    if len(word)>3 and word in text:\n",
    "                        count += 1\n",
    "                        words.append(word)\n",
    "                matches.append(count)\n",
    "                matching_words.append(words)\n",
    "            \n",
    "    matches_copy = matches.copy()\n",
    "    matches_copy = sorted(matches_copy,reverse=True)\n",
    "    \n",
    "    print(\"Possible text of most probable plaintext after adding spaces by going through dictionary\\n\")\n",
    "    print(with_spaces(possibilities[matches.index(matches_copy[0])]),'\\n')\n",
    "    \n",
    "    print(\"Possible text of most probable plaintext after adding spaces using nlp library\\n\")\n",
    "    spaces = ' '.join(wordninja.split(possibilities[matches.index(matches_copy[0])]))\n",
    "    print(spaces,'\\n')\n",
    "\n",
    "    print(\"Top 3 probable plain texts using bruteforce attack are\\n\") \n",
    "    for i in range(3):\n",
    "        index = matches.index(matches_copy[i])\n",
    "        print(\"Permutation key\",permutation[index],\"\\nPlaintext\\n\",possibilities[index],\"\\nmatching words count\",matches[index],'\\nmatchingwords',matching_words[index])\n",
    "        print()"
   ]
  },
  {
   "cell_type": "code",
   "execution_count": 19,
   "metadata": {},
   "outputs": [
    {
     "data": {
      "text/plain": [
       "'aoncimaunlrntaroipssotintmseehgiaesrtwisnueotnoirtoasfwxdiefnteglntadhneerhotduaangialmoucyobcnmaunltedhnlmoucaesrnoehscnoisnsrecmbemlareoddohbtreihwthftodeohrtadsnweehptuamtroointhctefunlmoruaesalulseidfydyebnewkyadorfoxmearehltpewkyederzoairsbfeolstsghnstxoirweohroaeseglnfsxhitdhntaempreaittuidnsoiefneyhbtdlhapeeibtalraocrfeodeehltestrttenhiyoewkiadnrgleurclroanrmauasrntstoipniocieahrpsaypnsaeprsreacilflewtdieulnlhnniasrgreiaclruunlmotarrapssonintoipeihchstercsaepeerlabatlffnkinltlyamseehgiaesedrasfnfiolmoucitsnnoderhserpefeiicyhbtdewkyedorfoxmeareulspoepspueesweehktodwrybaerzntadsmseehgwaesrdaeecvsoiefrdeetealczneo'"
      ]
     },
     "execution_count": 19,
     "metadata": {},
     "output_type": "execute_result"
    }
   ],
   "source": [
    "CipherText = \"aoncimaunlrntaroipssotintmseehgiaesrtwisnueotnoirtoasfwxdiefnteglntadhneerhotduaangialmoucyobcnmaunltedhnlmoucaesrnoehscnoisnsrecmbemlareoddohbtreihwthftodeohrtadsnweehptuamtroointhctefunlmoruaesalulseidfydyebnewkyadorfoxmearehltpewkyederzoairsbfeolstsghnstxoirweohroaeseglnfsxhitdhntaempreaittuidnsoiefneyhbtdlhapeeibtalraocrfeodeehltestrttenhiyoewkiadnrgleurclroanrmauasrntstoipniocieahrpsaypnsaeprsreacilflewtdieulnlhnniasrgreiaclruunlmotarrapssonintoipeihchstercsaepeerlabatlffnkinltlyamseehgiaesedrasfnfiolmoucitsnnoderhserpefeiicyhbtdewkyedorfoxmeareulspoepspueesweehktodwrybaerzntadsmseehgwaesrdaeecvsoiefrdeetealczneo\"\n",
    "CipherText"
   ]
  },
  {
   "cell_type": "code",
   "execution_count": 20,
   "metadata": {},
   "outputs": [
    {
     "name": "stdout",
     "output_type": "stream",
     "text": [
      "Possible text of most probable plaintext after adding spaces by going through dictionary\n",
      "\n",
      "in ac ol um na rt ran sp os it ion themes sage is written out in rows of af ix ed length and then read out again column by column and the columns are chosen ins om esc ram bl ed order both the width of ther ow sand the per mutation of the columns are usually defined by ak e y word forex ample the keyword zebra sis of lengths ix so ther ow sar eo fl eng ths ix and the per mutation isd ef in ed by the alphabetical order of the letters int he keyword in are gu la rc ol um na rt ran sp os it ion cipher any spares pace sar ef ill ed with null sin an irregular column art ran sp os it ion cipher the spaces are left blank finally themes sage is read off inc ol um ns int he orders pe ci fi ed by the keyword forex ample suppose we use the keyword zebra sand themes sage wear edi sco ver ed flee at once z \n",
      "\n",
      "Possible text of most probable plaintext after adding spaces using nlp library\n",
      "\n",
      "in a column ar transposition the message is written out in rows of a fixed length and then readout again column by column and the columns are chosen in some scrambled order both the width of the rows and the permutation of the columns are usually defined by a keyword for example the keyword zebras is of length six so the rows are of length six and the permutation is defined by the alphabetical order of the letters in the keyword in a regular column ar transposition cipher any spare spaces are filled with nulls in an irregular column ar transposition cipher the spaces are left blank finally the message is read off in columns in the order specified by the keyword for example suppose we use the keyword zebras and the message we are discovered flee at once z \n",
      "\n",
      "Top 3 probable plain texts using bruteforce attack are\n",
      "\n",
      "Permutation key (3, 5, 2, 4, 1) \n",
      "Plaintext\n",
      " inacolumnartranspositionthemessageiswrittenoutinrowsofafixedlengthandthenreadoutagaincolumnbycolumnandthecolumnsarechoseninsomescrambledorderboththewidthoftherowsandthepermutationofthecolumnsareusuallydefinedbyakeywordforexamplethekeywordzebrasisoflengthsixsotherowsareoflengthsixandthepermutationisdefinedbythealphabeticalorderofthelettersinthekeywordinaregularcolumnartranspositioncipheranysparespacesarefilledwithnullsinanirregularcolumnartranspositioncipherthespacesareleftblankfinallythemessageisreadoffincolumnsintheorderspecifiedbythekeywordforexamplesupposeweusethekeywordzebrasandthemessagewearediscoveredfleeatoncez \n",
      "matching words count 104 \n",
      "matchingwords ['with', 'other', 'some', 'than', 'over', 'them', 'message', 'cipher', 'then', 'order', 'read', 'both', 'left', 'again', 'example', 'space', 'hand', 'once', 'word', 'written', 'final', 'cover', 'usually', 'position', 'orders', 'fine', 'length', 'letter', 'regular', 'defined', 'fixed', 'finally', 'specified', 'lord', 'letters', 'keyword', 'covered', 'theme', 'examples', 'define', 'column', 'fill', 'disc', 'gain', 'null', 'wear', 'alpha', 'discover', 'width', 'filled', 'chosen', 'themes', 'echo', 'exam', 'blank', 'columns', 'usual', 'sand', 'discovered', 'spaces', 'tion', 'trans', 'hero', 'pace', 'suppose', 'alphabetical', 'spare', 'spec', 'chose', 'sage', 'rows', 'disco', 'mess', 'hose', 'sofa', 'cove', 'bras', 'pose', 'refill', 'alphabet', 'lengths', 'seth', 'mutation', 'forex', 'heal', 'dinar', 'spares', 'lett', 'ally', 'ample', 'irregular', 'supp', 'zebra', 'theo', 'eaton', 'fore', 'aces', 'ther', 'writ', 'ares', 'flee', 'tran', 'resp', 'fined']\n",
      "\n",
      "Permutation key (2, 4, 1, 3, 5) \n",
      "Plaintext\n",
      " nacoiumnaltranrposisionttemeshageiswritsenoutinrotsofawixedfengtlandthenrehdoutagainaolumcbyconumnaldthenolumcsarenhosecinsonescrmmbleaordedbothrhewitthofdherotsandwhepetmutarionotthecflumnoareusuallsdefiyedbynkeywardfooexamrlethpkeywerdzeorasiboflesgthsnxsotierowhareoslengfhsixtndthapermetatiunisdofineebythdalphebetiaalorcerofdheletterstntheieywokdinaregulrrcolamnaruranstositponciiherapyspanesparesarcfilledwitenullhinansrregilarculumnortraasposntioniiphecthesracespreleatblafkfinnllytaemeshageisreadsffinoolumcsintneordhrspeeifiecbythdkeywerdfooexamrlesupposepeusewheketwordyebrazandtsemeshagewsaredescoviredfeeeatlncezo \n",
      "matching words count 48 \n",
      "matchingwords ['then', 'read', 'both', 'again', 'land', 'word', 'fine', 'letter', 'race', 'letters', 'ones', 'fill', 'gain', 'null', 'mesh', 'filled', 'exam', 'usual', 'sand', 'tion', 'ward', 'reads', 'meta', 'hero', 'suppose', 'spare', 'races', 'span', 'tier', 'hose', 'sofa', 'pose', 'cola', 'desc', 'hewitt', 'dinar', 'spares', 'lett', 'feng', 'supp', 'sion', 'pane', 'aces', 'finn', 'hare', 'writ', 'ares', 'tran']\n",
      "\n",
      "Permutation key (4, 1, 3, 5, 2) \n",
      "Plaintext\n",
      " oinacalumnnrtraisposttionshemeisagetswriutenootinrawsofdfixetlengthandehenrtadounagaimcoluonbycalumnendthmcoluensarechosoninsrmesceambledordhrbotithewfdthootherdwsanetheparmutotioncfthenolumusarelsualiydefynedbwakeyoordfmrexahpletwekeyeordzibrasesoflsngthtixsowheroosaregflenxthsihandtmeperiutatdoniseefinhdbythealpiabetrcalofderoethelsttereinthokeywardinlregularcorumnastrantposiiioncapheranysparesprcesalefiltedwilhnulnsinagirrecularnolumaartrsnsponitioeciphsrthespaceearelaftblnnkfitallyshemeisagedsreanoffimcolutnsindheoreerspecifihdbytwekeyoordfmrexauplesepposeweusethekdyworazebrtsandshemewsagedeareviscoferedtleeazonce \n",
      "matching words count 43 \n",
      "matchingwords ['other', 'than', 'post', 'then', 'sale', 'space', 'hand', 'once', 'length', 'regular', 'gets', 'dear', 'echo', 'aged', 'sand', 'tion', 'ward', 'tall', 'wake', 'hero', 'pace', 'spare', 'spec', 'sage', 'tions', 'bras', 'pose', 'sands', 'seth', 'heal', 'rant', 'spares', 'ally', 'ions', 'herd', 'ther', 'sane', 'ares', 'tally', 'astra', 'sind', 'tran', 'resp']\n",
      "\n"
     ]
    }
   ],
   "source": [
    "BruteForceKeyedCipher(CipherText)"
   ]
  },
  {
   "cell_type": "code",
   "execution_count": null,
   "metadata": {},
   "outputs": [],
   "source": []
  }
 ],
 "metadata": {
  "kernelspec": {
   "display_name": "SageMath 9.1",
   "language": "sage",
   "name": "sagemath"
  },
  "language_info": {
   "codemirror_mode": {
    "name": "ipython",
    "version": 3
   },
   "file_extension": ".py",
   "mimetype": "text/x-python",
   "name": "python",
   "nbconvert_exporter": "python",
   "pygments_lexer": "ipython3",
   "version": "3.7.3"
  }
 },
 "nbformat": 4,
 "nbformat_minor": 2
}
