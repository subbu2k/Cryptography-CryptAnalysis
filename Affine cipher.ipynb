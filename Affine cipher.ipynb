{
 "cells": [
  {
   "cell_type": "code",
   "execution_count": 1,
   "metadata": {},
   "outputs": [
    {
     "name": "stdout",
     "output_type": "stream",
     "text": [
      "{'a': 0, 'b': 1, 'c': 2, 'd': 3, 'e': 4, 'f': 5, 'g': 6, 'h': 7, 'i': 8, 'j': 9, 'k': 10, 'l': 11, 'm': 12, 'n': 13, 'o': 14, 'p': 15, 'q': 16, 'r': 17, 's': 18, 't': 19, 'u': 20, 'v': 21, 'w': 22, 'x': 23, 'y': 24, 'z': 25}\n",
      "\n",
      "{0: 'a', 1: 'b', 2: 'c', 3: 'd', 4: 'e', 5: 'f', 6: 'g', 7: 'h', 8: 'i', 9: 'j', 10: 'k', 11: 'l', 12: 'm', 13: 'n', 14: 'o', 15: 'p', 16: 'q', 17: 'r', 18: 's', 19: 't', 20: 'u', 21: 'v', 22: 'w', 23: 'x', 24: 'y', 25: 'z'}\n",
      "Requirement already satisfied: wordninja in /opt/sagemath-9.1/local/lib/python3.7/site-packages (2.0.0)\n"
     ]
    }
   ],
   "source": [
    "#Utility functions and dictionaries\n",
    "from sympy import *\n",
    "\n",
    "toAscii = {}\n",
    "toAlphabet = {}\n",
    "\n",
    "string='abcdefghijklmnopqrstuvwxyz'\n",
    "for i in range(0,26):\n",
    "    toAscii[string[i]] = i\n",
    "    toAlphabet[i] = string[i]\n",
    "print(toAscii)\n",
    "print()\n",
    "print(toAlphabet)\n",
    "\n",
    "def preprocess(text): #preprocess text by removing non alphabetic characters\n",
    "    text = list(text)\n",
    "    for i in range(len(text)):\n",
    "        if not text[i].isalpha():\n",
    "            text[i]=''\n",
    "    text = ''.join(text)\n",
    "    return text.lower()\n",
    "\n",
    "def mod26(number): #returns (number)mod26 value\n",
    "    return number%26\n",
    "\n",
    "def mod26Inverse(number): #return multiplicative inverse in mod26 if exists else return 0 (indicating no inverse)\n",
    "    number = mod26(number)\n",
    "    for i in range(1, 26): \n",
    "        if mod26(number*i)==1: \n",
    "            return i\n",
    "    else:\n",
    "        return 0\n",
    "    \n",
    "\n",
    "dict_list = []\n",
    "with open(\"words.txt\",mode='r') as f:\n",
    "    dict_list = f.readlines()\n",
    "word_list = [ i.replace(\"\\n\",\"\") for i in dict_list]\n",
    "\n",
    "def with_spaces(text):   #add spaces in spaceless sentece by looking up at dictionary\n",
    "    text = list(preprocess(text))\n",
    "    words = []\n",
    "    word_1 = []\n",
    "    word_2 = []\n",
    "    start=0\n",
    "    end=0\n",
    "    i=0\n",
    "    k=0\n",
    "    while i<len(text):\n",
    "        word_1.append(text[i])\n",
    "        if ''.join(word_1) in word_list:\n",
    "            end=i\n",
    "        if i==len(text)-1:\n",
    "            if(''.join(list(text[start:end+1]))==''): break\n",
    "            words.append(''.join(list(text[start:end+1])))\n",
    "            word_1 = []\n",
    "            i=end\n",
    "            start=i+1\n",
    "        i+=1\n",
    "    return \" \".join(words)\n",
    "\n",
    "! pip3 install wordninja\n",
    "import wordninja# NLP library which adds spaces to the sentence and outputs most probable sentence"
   ]
  },
  {
   "cell_type": "markdown",
   "metadata": {},
   "source": [
    "### Affine cipher Encryption"
   ]
  },
  {
   "cell_type": "code",
   "execution_count": 2,
   "metadata": {},
   "outputs": [],
   "source": [
    "def AffineCipherEncryption(PlainText,key1,key2):\n",
    "    if mod26Inverse(key1)==0:\n",
    "        return f\"Multiplicative inverse does not exist for key1={key1} in Z* 26\"\n",
    "    PText = list(preprocess(PlainText)) #creates list of characters after removing spaces and changing case to lower\n",
    "    CText = []\n",
    "    for P in PText:\n",
    "        P_ascii = toAscii[P] #converting letter to ascii\n",
    "        C_ascii = mod26(P_ascii*key1+key2) #Encryption C=(P*key1 + key2)mod26\n",
    "        C = toAlphabet[C_ascii] #converting ascii to letter\n",
    "        CText.append(C) \n",
    "    CipherText = ''.join(CText)\n",
    "    return CipherText"
   ]
  },
  {
   "cell_type": "code",
   "execution_count": 3,
   "metadata": {},
   "outputs": [
    {
     "data": {
      "text/plain": [
       "'swxhoonuxpncwxknbhszcxlodlulhmcwhyxsnpbjybsnsjsnlupncwxkrwxkxxhpwmxssxknuhuhmcwhyxsnbdhccxgslnsbujdxknpxtjnahmxusxupkzcsxgjbnufhbndcmxdhswxdhsnphmojupsnluhugpluaxksxgyhpvslhmxssxk'"
      ]
     },
     "execution_count": 3,
     "metadata": {},
     "output_type": "execute_result"
    }
   ],
   "source": [
    "PlainText = 'The affine cipher is a type of monoalphabetic substitution cipher, where each letter in an alphabet is mapped to its numeric equivalent, encrypted using a simple mathematical function, and converted back to a letter.'\n",
    "key1 = 17\n",
    "key2 = 7\n",
    "AffineCipherEncryption(PlainText,key1,key2)"
   ]
  },
  {
   "cell_type": "markdown",
   "metadata": {},
   "source": [
    "### Affine cipher Decryption"
   ]
  },
  {
   "cell_type": "code",
   "execution_count": 4,
   "metadata": {},
   "outputs": [],
   "source": [
    "def AffineCipherDecryption(CipherText,key1,key2):\n",
    "    if mod26Inverse(key1)==0:\n",
    "        return f\"Multiplicative inverse does not exist for key1={key1} in Z* 26\"\n",
    "    CText = list(preprocess(CipherText)) #creates list of characters after removing spaces and changing case to lower\n",
    "    PText = []\n",
    "    for C in CText:\n",
    "        C_ascii = toAscii[C] #converting letter to ascii\n",
    "        P_ascii = mod26((C_ascii-key2)*mod26Inverse(key1)) #Decryption P=((C-key2)*key1_inverse)mod26\n",
    "        P = toAlphabet[P_ascii] #converting ascii to letter\n",
    "        PText.append(P) \n",
    "    PlainText = ''.join(PText)\n",
    "    return PlainText"
   ]
  },
  {
   "cell_type": "code",
   "execution_count": 5,
   "metadata": {},
   "outputs": [
    {
     "data": {
      "text/plain": [
       "'theaffinecipherisatypeofmonoalphabeticsubstitutioncipherwhereeachletterinanalphabetismappedtoitsnumericequivalentencryptedusingasimplemathematicalfunctionandconvertedbacktoaletter'"
      ]
     },
     "execution_count": 5,
     "metadata": {},
     "output_type": "execute_result"
    }
   ],
   "source": [
    "CipherText = 'swxhoonuxpncwxknbhszcxlodlulhmcwhyxsnpbjybsnsjsnlupncwxkrwxkxxhpwmxssxknuhuhmcwhyxsnbdhccxgslnsbujdxknpxtjnahmxusxupkzcsxgjbnufhbndcmxdhswxdhsnphmojupsnluhugpluaxksxgyhpvslhmxssxk'\n",
    "key1 = 17\n",
    "key2 = 7\n",
    "AffineCipherDecryption(CipherText,key1,key2)"
   ]
  },
  {
   "cell_type": "code",
   "execution_count": 6,
   "metadata": {},
   "outputs": [
    {
     "data": {
      "text/plain": [
       "'the aff in ec ip her isa type of mono alphabet ics ub sti tu tion cipher where each letter in anal ph abe tis mapped to its numeric equivalent encrypted using asi mp le mathematical function and converted back to ale tt er'"
      ]
     },
     "execution_count": 6,
     "metadata": {},
     "output_type": "execute_result"
    }
   ],
   "source": [
    "#adding spaces using self made function\n",
    "with_spaces('theaffinecipherisatypeofmonoalphabeticsubstitutioncipherwhereeachletterinanalphabetismappedtoitsnumericequivalentencryptedusingasimplemathematicalfunctionandconvertedbacktoaletter')"
   ]
  },
  {
   "cell_type": "code",
   "execution_count": 7,
   "metadata": {},
   "outputs": [
    {
     "data": {
      "text/plain": [
       "'the affine cipher is a type of mono alphabetic substitution cipher where each letter in an alphabet is mapped to its numeric equivalent encrypted using a simple mathematical function and converted back to a letter'"
      ]
     },
     "execution_count": 7,
     "metadata": {},
     "output_type": "execute_result"
    }
   ],
   "source": [
    "#adding spaces using nlp library\n",
    "' '.join(wordninja.split('theaffinecipherisatypeofmonoalphabeticsubstitutioncipherwhereeachletterinanalphabetismappedtoitsnumericequivalentencryptedusingasimplemathematicalfunctionandconvertedbacktoaletter'))"
   ]
  },
  {
   "cell_type": "markdown",
   "metadata": {},
   "source": [
    "### Input/Output file read/write"
   ]
  },
  {
   "cell_type": "code",
   "execution_count": 8,
   "metadata": {},
   "outputs": [
    {
     "name": "stdout",
     "output_type": "stream",
     "text": [
      "Example  1 Encrypted text\n",
      " swxhoonuxpncwxknbhszcxlodlulhmcwhyxsnpbjybsnsjsnlupncwxkrwxkxxhpwmxssxknuhuhmcwhyxsnbdhccxgslnsbujdxknpxtjnahmxusxupkzcsxgjbnufhbndcmxdhswxdhsnphmojupsnluhugpluaxksxgyhpvslhmxssxk\n",
      "\n",
      "Example  1 Decrypted text\n",
      " theaffinecipherisatypeofmonoalphabeticsubstitutioncipherwhereeachletterinanalphabetismappedtoitsnumericequivalentencryptedusingasimplemathematicalfunctionandconvertedbacktoaletter\n",
      "\n",
      "Example  1 Text after adding spaces\n",
      " the affine cipher is a type of mono alphabetic substitution cipher where each letter in an alphabet is mapped to its numeric equivalent encrypted using a simple mathematical function and converted back to a letter\n",
      "\n",
      "Example  2 Encrypted text\n",
      " wetnoozatdzqetgrbtbfvyrkvngzweftwzdwvqtgovgfndnkdrknwzvavawetarftgzdnkmnkrtvonktwwtgwvdgtnwtwetdzqetgwtcw\n",
      "\n",
      "Example  2 Decrypted text\n",
      " theaffinecipherusesmoduloarithmetictoperformacalculationonthenumericalvalueofalettertocreatetheciphertext\n",
      "\n",
      "Example  2 Text after adding spaces\n",
      " the affine cipher uses modulo arithmetic to perform a calculation on the numerical value of a letter to create the ciphertext\n",
      "\n",
      "Example  3 Encrypted text\n",
      " Multiplicative inverse does not exist for key1=2 in Z* 26\n",
      "\n",
      "Example  3 Decrypted text\n",
      " Multiplicative inverse does not exist for key1=2 in Z* 26\n",
      "\n",
      "Example  3 Text after adding spaces\n",
      " Multiplicative inverse does not exist for key 1 2 in Z 26\n",
      "\n"
     ]
    }
   ],
   "source": [
    "with open(\"B180522CS_SINGAM_1_I.txt\",'r') as f1:\n",
    "    lines = f1.readlines()\n",
    "    file = [ line.replace(\"\\n\",\"\") for line in lines]\n",
    "\n",
    "with open(\"B180522CS_SINGAM_1_O.txt\",'w') as f2:\n",
    "    j=1\n",
    "    for i in range(0,len(file)-1,2):\n",
    "        ciphertext =file[i]\n",
    "        key1,key2 = map(int,file[i+1].split(','))\n",
    "        encrypted_text = AffineCipherEncryption(ciphertext,key1,key2)\n",
    "        print(\"Example \",j,'Encrypted text\\n',encrypted_text+'\\n')\n",
    "        f2.write(f\"Example {j} Encrypted text\\n\")\n",
    "        f2.write(encrypted_text+\"\\n\\n\")\n",
    "        decrypted_text = AffineCipherDecryption(encrypted_text,key1,key2)\n",
    "        print(\"Example \",j,'Decrypted text\\n',decrypted_text+'\\n')\n",
    "        f2.write(f\"Example {j} Decrypted text\\n\")\n",
    "        f2.write(decrypted_text+\"\\n\\n\")\n",
    "        spaces = ' '.join(wordninja.split(decrypted_text))\n",
    "        print(\"Example \",j,'Text after adding spaces\\n',spaces+'\\n')\n",
    "        f2.write(f\"Example {j} Text after adding spaces\\n\")\n",
    "        f2.write(spaces+\"\\n\\n\")\n",
    "        j+=1"
   ]
  },
  {
   "cell_type": "markdown",
   "metadata": {},
   "source": [
    "# Cryptanalysis"
   ]
  },
  {
   "cell_type": "markdown",
   "metadata": {},
   "source": [
    "### Attacks used\n",
    "- > Brute force attack\n",
    "- > Statistical attack\n",
    "- > Choosen Plain Text attack"
   ]
  },
  {
   "cell_type": "markdown",
   "metadata": {},
   "source": [
    "## Brute force"
   ]
  },
  {
   "cell_type": "code",
   "execution_count": 9,
   "metadata": {},
   "outputs": [],
   "source": [
    "def BruteForceAffineCipher(CipherText):\n",
    "    possibilities = []\n",
    "    matches = []\n",
    "    matching_words=[]\n",
    "    key_pairs = []\n",
    "    for k1 in range(1,26):\n",
    "        for k2 in range(1,26):\n",
    "            if mod26Inverse(k1)==0: continue\n",
    "            key_pairs.append((k1,k2))\n",
    "            text = AffineCipherDecryption(CipherText,k1,k2)\n",
    "            count=0\n",
    "            words=[]\n",
    "            possibilities.append(text)\n",
    "            with open(\"words.txt\",mode='r') as f:\n",
    "                for word in f.readlines():\n",
    "                    word=word.replace(\"\\n\",\"\")\n",
    "                    if len(word)>2 and word in text:\n",
    "                        count += 1\n",
    "                        words.append(word)\n",
    "                matches.append(count)\n",
    "                matching_words.append(words)\n",
    "\n",
    "    matches_copy = matches.copy()\n",
    "    matches_copy = sorted(matches_copy,reverse=True)\n",
    "    \n",
    "    print(\"Possible text of most probable plaintext after adding spaces by going through dictionary\\n\")\n",
    "    print(with_spaces(possibilities[matches.index(matches_copy[0])]),'\\n')\n",
    "    \n",
    "    print(\"Possible text of most probable plaintext after adding spaces using nlp library\\n\")\n",
    "    spaces = ' '.join(wordninja.split(possibilities[matches.index(matches_copy[0])]))\n",
    "    print(spaces,'\\n')\n",
    "    \n",
    "    print(\"Top 3 probable plain texts using brute force attack are\\n\") \n",
    "    for i in range(3):\n",
    "        index = matches.index(matches_copy[i])\n",
    "        print(\"key_pair\",key_pairs[index],\"\\nPlaintext\\n\",possibilities[index],\"\\nmatching words count\",matches[index],'\\nmatchingwords',matching_words[index])\n",
    "        print()"
   ]
  },
  {
   "cell_type": "code",
   "execution_count": 10,
   "metadata": {},
   "outputs": [
    {
     "name": "stdout",
     "output_type": "stream",
     "text": [
      "Possible text of most probable plaintext after adding spaces by going through dictionary\n",
      "\n",
      "crypt analysis ist hes tu dy of cipher text cipher sand crypto systems with the aim of understanding how they work and finding and improving techniques ford ef eating or weak en ing them forex ample crypt analysts seek to dec ry pt cipher texts without knowledge of the plain texts our ce encryption key or the algorithm used toe ncr y pt itc ry pta na lys ts also targets ec ur eh ash ing digital signatures and other crypto graphical go ri th ms while theo bj ect ive of crypt analysis ist of ind weaknesses in oro ther wise defeat crypto graphical go ri th msc ry pta na lys ts research results are used by crypto graph ers to improve and strengthen or replace flawed algorithms both crypt analysis which focuses on dec ip her ing encrypted data and cryptography which focuses on creating and improving encryption cipher sand other algorithms areas pe cts of crypto log y them at hem ati cal study of codes cipher sand related algorithms \n",
      "\n",
      "Possible text of most probable plaintext after adding spaces using nlp library\n",
      "\n",
      "cryptanalysis is the study of ciphertext ciphers and cryptosystems with the aim of understanding how they work and finding and improving techniques for defeating or weakening them for example cryptanalysts seek to decrypt ciphertexts without knowledge of the plaintext source encryption key or the algorithm used to encrypt it cryptanalysts also target secure hashing digital signatures and other cryptographic algorithms while the objective of cryptanalysis is to find weaknesses in or otherwise defeat cryptographic algorithms cryptanalysts research results are used by cryptographers to improve and strengthen or replace flawed algorithms both cryptanalysis which focuses on deciphering encrypted data and cryptography which focuses on creating and improving encryption ciphers and other algorithms are aspects of cryptology the mathematical study of codes ciphers and related algorithms \n",
      "\n",
      "Top 3 probable plain texts using brute force attack are\n",
      "\n",
      "key_pair (19, 11) \n",
      "Plaintext\n",
      " cryptanalysisisthestudyofciphertextciphersandcryptosystemswiththeaimofunderstandinghowtheyworkandfindingandimprovingtechniquesfordefeatingorweakeningthemforexamplecryptanalystsseektodecryptciphertextswithoutknowledgeoftheplaintextsourceencryptionkeyorthealgorithmusedtoencryptitcryptanalystsalsotargetsecurehashingdigitalsignaturesandothercryptographicalgorithmswhiletheobjectiveofcryptanalysisistofindweaknessesinorotherwisedefeatcryptographicalgorithmscryptanalystsresearchresultsareusedbycryptographerstoimproveandstrengthenorreplaceflawedalgorithmsbothcryptanalysiswhichfocusesondecipheringencrypteddataandcryptographywhichfocusesoncreatingandimprovingencryptionciphersandotheralgorithmsareaspectsofcryptologythemathematicalstudyofcodesciphersandrelatedalgorithms \n",
      "matching words count 309 \n",
      "matchingwords ['the', 'and', 'for', 'with', 'are', 'has', 'search', 'our', 'other', 'they', 'which', 'out', 'use', 'see', 'also', 'now', 'get', 'how', 'find', 'used', 'work', 'data', 'them', 'system', 'her', 'cipher', 'then', 'under', 'research', 'know', 'results', 'area', 'code', 'sign', 'related', 'both', 'while', 'systems', 'place', 'without', 'law', 'text', 'digital', 'source', 'dec', 'study', 'san', 'let', 'key', 'example', 'result', 'analysis', 'areas', 'log', 'fun', 'pro', 'tech', 'knowledge', 'nature', 'object', 'fund', 'wed', 'focus', 'late', 'secure', 'understand', 'sea', 'improve', 'anal', 'est', 'son', 'uses', 'ring', 'int', 'otherwise', 'target', 'understanding', 'gets', 'led', 'stand', 'ford', 'edge', 'sec', 'techniques', 'nor', 'creating', 'finding', 'des', 'codes', 'graphic', 'eat', 'aim', 'math', 'aspects', 'strength', 'standing', 'hey', 'signature', 'dot', 'der', 'seek', 'plain', 'replace', 'objective', 'eating', 'und', 'res', 'que', 'technique', 'exam', 'sci', 'edt', 'sin', 'improving', 'ing', 'era', 'analyst', 'asp', 'algorithm', 'ken', 'sand', 'prove', 'def', 'graph', 'aspect', 'tion', 'ear', 'targets', 'rep', 'toe', 'amp', 'weak', 'wise', 'cal', 'lat', 'arc', 'texts', 'ion', 'tit', 'ext', 'thou', 'cry', 'eng', 'ace', 'mathematical', 'stem', 'rap', 'tin', 'cod', 'gen', 'algorithms', 'cure', 'arch', 'mat', 'ted', 'tan', 'spec', 'stud', 'ist', 'sys', 'encryption', 'focuses', 'ash', 'relate', 'phi', 'arg', 'geo', 'ati', 'lace', 'ste', 'analysts', 'strengthen', 'tex', 'dig', 'nat', 'digit', 'sig', 'str', 'defeat', 'tar', 'graphical', 'obj', 'ana', 'ate', 'fin', 'signatures', 'hash', 'ata', 'dim', 'stan', 'feat', 'dat', 'wit', 'ind', 'rel', 'ign', 'owl', 'din', 'weaknesses', 'als', 'andre', 'ems', 'rex', 'ile', 'bot', 'weakness', 'lys', 'sta', 'erin', 'een', 'msc', 'forex', 'reuse', 'ngo', 'sed', 'heal', 'sour', 'hen', 'tec', 'desc', 'cur', 'vin', 'encrypted', 'dcr', 'sts', 'ich', 'roth', 'sis', 'ive', 'proving', 'dst', 'msa', 'ness', 'chf', 'mus', 'stems', 'nes', 'rsa', 'imp', 'isis', 'ample', 'ore', 'lac', 'muse', 'sar', 'esa', 'hep', 'tos', 'theo', 'phe', 'ers', 'ses', 'ord', 'stu', 'ita', 'tho', 'scr', 'pte', 'digi', 'thematic', 'imo', 'fore', 'lec', 'gan', 'chr', 'tem', 'shin', 'flaw', 'cre', 'sal', 'awe', 'dal', 'itc', 'kan', 'ean', 'fla', 'tal', 'shi', 'ren', 'hers', 'hem', 'rove', 'ect', 'sto', 'esc', 'cts', 'flawed', 'rot', 'ther', 'atc', 'tive', 'rea', 'tic', 'crypto', 'crypt', 'eas', 'indi', 'oro', 'xtc', 'hms', 'ncr', 'ess', 'cryptography', 'ode', 'prov', 'lai', 'hes', 'pta', 'ding']\n",
      "\n",
      "key_pair (3, 9) \n",
      "Plaintext\n",
      " wnojrsfsbocicicrtacrgloupwijtanrazrwijtancsflwnojrucocraqckirtrtasiqupgflancrsflifetukrtaokunmsflpiflifesfliqjnuviferawtfiygacpunlapasrifeunkasmafifertaqpunazsqjbawnojrsfsbocrccaamrulawnojrwijtanrazrckirtugrmfukbaleauprtajbsifrazrcugnwaafwnojriufmaounrtasbeunirtqgcalruafwnojrirwnojrsfsbocrcsbcursnearcawgnatsctifelieirsbciefsrgnacsflurtanwnojruensjtiwsbeunirtqcktibartauhxawrivaupwnojrsfsbocicicrupiflkasmfaccacifunurtankicalapasrwnojruensjtiwsbeunirtqcwnojrsfsbocrcnacasnwtnacgbrcsnagcalhownojruensjtancruiqjnuvasflcrnafertafunnajbswapbskalsbeunirtqchurtwnojrsfsbocicktiwtpuwgcacuflawijtanifeafwnojrallsrssflwnojruensjtoktiwtpuwgcacufwnasrifesfliqjnuvifeafwnojriufwijtancsflurtansbeunirtqcsnascjawrcupwnojrubueortaqsrtaqsriwsbcrgloupwulacwijtancsflnabsralsbeunirtqc \n",
      "matching words count 98 \n",
      "matchingwords ['all', 'how', 'life', 'own', 'law', 'art', 'rss', 'fun', 'near', 'bar', 'cup', 'acc', 'raw', 'tank', 'era', 'cpu', 'ear', 'sri', 'lan', 'lie', 'cal', 'hurt', 'arc', 'flu', 'lawn', 'tan', 'swap', 'abs', 'rna', 'nat', 'una', 'rca', 'irs', 'eau', 'lap', 'asn', 'pas', 'boc', 'uni', 'ala', 'cas', 'lou', 'pbs', 'als', 'nas', 'lea', 'wap', 'crt', 'rue', 'razr', 'acs', 'cur', 'sbc', 'ale', 'rcs', 'tas', 'rub', 'crc', 'fra', 'nwt', 'bart', 'eli', 'tac', 'lac', 'asc', 'jaw', 'apa', 'tao', 'tau', 'alr', 'crs', 'ans', 'wtf', 'flaw', 'asm', 'ocr', 'fife', 'fla', 'ska', 'ats', 'bal', 'fsb', 'chu', 'crn', 'fac', 'nur', 'caa', 'cca', 'taj', 'asi', 'smf', 'asf', 'aca', 'ncr', 'cac', 'srs', 'acp', 'mao']\n",
      "\n",
      "key_pair (7, 20) \n",
      "Plaintext\n",
      " texgcvivkxdndndcordcbsxhqtngorecryctngoredvistexgchdxdcrjdzncocorvnjhqbisredcvisnipohzcorxzhelvisqnisnipvisnjgehanipcrtoinfbrdqhesrqrvcniphezrvlrinipcorjqheryvjgkrtexgcvivkxdcddrrlchsrtexgctngorecrycdzncohbclihzkrsprhqcorgkvnicrycdhbetrritexgcnhilrxhecorvkphencojbdrschritexgcnctexgcvivkxdcdvkdhcveprcdrtberovdonipsnpncvkdnpivcberdvishcoretexgchpevgontvkphencojdzonkrcorhumrtcnarhqtexgcvivkxdndndchqniszrvlirddrdnihehcorezndrsrqrvctexgchpevgontvkphencojdtexgcvivkxdcderdrvetoerdbkcdverbdrsuxtexgchpevgoredchnjgeharvisdceripcoriheergkvtrqkvzrsvkphencojduhcotexgcvivkxdndzontoqhtbdrdhisrtngorenipritexgcrssvcvvistexgchpevgoxzontoqhtbdrdhitervcnipvisnjgehanipritexgcnhitngoredvishcorevkphencojdvervdgrtcdhqtexgchkhpxcorjvcorjvcntvkdcbsxhqthsrdtngoredviserkvcrsvkphencojd \n",
      "matching words count 81 \n",
      "matchingwords ['his', 'her', 'red', 'rss', 'hit', 'core', 'onto', 'don', 'der', 'bet', 'org', 'toe', 'rev', 'cry', 'cord', 'cbs', 'ist', 'jvc', 'ddr', 'rec', 'elvis', 'rip', 'eco', 'ste', 'tex', 'ver', 'ser', 'gore', 'inf', 'vcr', 'ips', 'vet', 'sch', 'pcr', 'dvi', 'nih', 'ont', 'ret', 'crt', 'cote', 'vis', 'ngo', 'cor', 'nic', 'han', 'hen', 'verb', 'dcr', 'ter', 'cdr', 'ths', 'ore', 'rite', 'nip', 'hum', 'bis', 'cnc', 'phe', 'ord', 'heh', 'crs', 'har', 'svc', 'chr', 'pri', 'ipo', 'ipc', 'ber', 'ren', 'tbd', 'prc', 'coco', 'snp', 'isd', 'hee', 'cli', 'ish', 'nis', 'cot', 'veto', 'hes']\n",
      "\n"
     ]
    }
   ],
   "source": [
    "BruteForceAffineCipher('xwzkilylmzphphpiojpibqzrcxhkojwijgixhkojwplyqxwzkirpzpijfpnhioiojlhfrcbyqjwpilyqhyvorniojznrwtlyqchyqhyvlyqhfkwruhyvijxoyhdbjpcrwqjcjlihyvrwnjltjyhyviojfcrwjglfkmjxwzkilylmzpippjjtirqjxwzkixhkojwijgipnhiorbityrnmjqvjrciojkmlhyijgiprbwxjjyxwzkihrytjzrwiojlmvrwhiofbpjqirjyxwzkihixwzkilylmzpiplmprilwvjipjxbwjolpohyvqhvhilmphvylibwjplyqriojwxwzkirvwlkohxlmvrwhiofpnohmjiojreajxihujrcxwzkilylmzphphpirchyqnjltyjppjphyrwriojwnhpjqjcjlixwzkirvwlkohxlmvrwhiofpxwzkilylmzpipwjpjlwxowjpbmiplwjbpjqezxwzkirvwlkojwpirhfkwrujlyqpiwjyviojyrwwjkmlxjcmlnjqlmvrwhiofperioxwzkilylmzphpnohxocrxbpjpryqjxhkojwhyvjyxwzkijqqlillyqxwzkirvwlkoznohxocrxbpjpryxwjlihyvlyqhfkwruhyvjyxwzkihryxhkojwplyqriojwlmvrwhiofplwjlpkjxiprcxwzkirmrvziojfliojflihxlmpibqzrcxrqjpxhkojwplyqwjmlijqlmvrwhiofp')"
   ]
  },
  {
   "cell_type": "markdown",
   "metadata": {},
   "source": [
    "## Statistical Attack"
   ]
  },
  {
   "cell_type": "code",
   "execution_count": 11,
   "metadata": {},
   "outputs": [],
   "source": [
    "real_freq_dict = {'e':12.02,'t':9.10,'a':8.12,'o':7.68,'i':7.31,'n':6.95,'s':6.28,'r':6.02,'h':5.92,'d':4.32,'l':3.98,'u':2.88,\n",
    "             'c':2.71,'m':2.61,'f':2.30,'y':2.11,'w':2.09,'g':2.03,'p':1.82,'b':1.49,'v':1.11,'k':0.69,'x':0.17,'q':0.11,\n",
    "             'j':0.10,'z':0.07}\n",
    "real_freq_list = list('etaoinsrhdlucmfywgpbvkxqjz')"
   ]
  },
  {
   "cell_type": "code",
   "execution_count": 12,
   "metadata": {},
   "outputs": [],
   "source": [
    "from collections import defaultdict\n",
    "def Frequencies(CipherText): #to get frequencies of each letter in a text\n",
    "    freq = defaultdict(lambda :0)\n",
    "    for letter in CipherText:\n",
    "        freq[letter] += 1\n",
    "    total = sum(freq.values())\n",
    "    for i in freq.keys():\n",
    "        freq[i] = float(freq[i]/total)\n",
    "    freq = sorted(freq.items(),reverse=True,key=lambda i:i[1])\n",
    "    return freq"
   ]
  },
  {
   "cell_type": "code",
   "execution_count": 13,
   "metadata": {},
   "outputs": [],
   "source": [
    "def StatisticalAttack(CipherText):\n",
    "    freq = Frequencies(preprocess(CipherText))\n",
    "    possibilities = []\n",
    "    matches = []\n",
    "    matching_words=[]\n",
    "    key_pairs = []\n",
    "    letter_pair = []\n",
    "    for i in real_freq_list[:5]: \n",
    "        for k1 in range(1,26):\n",
    "            for k2 in range(1,26):\n",
    "                if mod26Inverse(k1)==0: continue\n",
    "                if toAscii[i] == mod26((toAscii[freq[0][0]]-k2)*mod26Inverse(k1)): \n",
    "                    letter_pair.append((freq[0][0],i))\n",
    "                    key_pairs.append((k1,k2))\n",
    "                    text = AffineCipherDecryption(CipherText,k1,k2)\n",
    "                    count=0\n",
    "                    words=[]\n",
    "                    possibilities.append(text)\n",
    "                    with open(\"words.txt\",mode='r') as f:\n",
    "                        for word in f.readlines():\n",
    "                            word=word.replace(\"\\n\",\"\")\n",
    "                            if len(word)>2 and word in text:\n",
    "                                count += 1\n",
    "                                words.append(word)\n",
    "                    matches.append(count)\n",
    "                    matching_words.append(words)\n",
    "    matches_copy = matches.copy()\n",
    "    matches_copy = sorted(matches_copy,reverse=True)\n",
    "    \n",
    "    print(\"Possible text of most probable plaintext after adding spaces by going through dictionary\\n\")\n",
    "    print(with_spaces(possibilities[matches.index(matches_copy[0])]),'\\n')\n",
    "    \n",
    "    print(\"Possible text of most probable plaintext after adding spaces using nlp library\\n\")\n",
    "    spaces = ' '.join(wordninja.split(possibilities[matches.index(matches_copy[0])]))\n",
    "    print(spaces,'\\n')\n",
    "    \n",
    "    print(\"Top 3 probable plain texts using statistical attack are\\n\") \n",
    "    for i in range(3):\n",
    "        index = matches.index(matches_copy[i])\n",
    "        print(f\"Most frequent letter in cipher text is {letter_pair[index][0]} and is replaced by {letter_pair[index][1]}\")\n",
    "        print(\"key_pair\",key_pairs[index],\"\\nPlaintext\\n\",possibilities[index],\"\\nmatching words count\",matches[index],'\\nmatchingwords',matching_words[index])\n",
    "        print()   "
   ]
  },
  {
   "cell_type": "code",
   "execution_count": 14,
   "metadata": {},
   "outputs": [
    {
     "name": "stdout",
     "output_type": "stream",
     "text": [
      "Possible text of most probable plaintext after adding spaces by going through dictionary\n",
      "\n",
      "crypt analysis ist hes tu dy of cipher text cipher sand crypto systems with the aim of understanding how they work and finding and improving techniques ford ef eating or weak en ing them forex ample crypt analysts seek to dec ry pt cipher texts without knowledge of the plain texts our ce encryption key or the algorithm used toe ncr y pt itc ry pta na lys ts also targets ec ur eh ash ing digital signatures and other crypto graphical go ri th ms while theo bj ect ive of crypt analysis ist of ind weaknesses in oro ther wise defeat crypto graphical go ri th msc ry pta na lys ts research results are used by crypto graph ers to improve and strengthen or replace flawed algorithms both crypt analysis which focuses on dec ip her ing encrypted data and cryptography which focuses on creating and improving encryption cipher sand other algorithms areas pe cts of crypto log y them at hem ati cal study of codes cipher sand related algorithms \n",
      "\n",
      "Possible text of most probable plaintext after adding spaces using nlp library\n",
      "\n",
      "cryptanalysis is the study of ciphertext ciphers and cryptosystems with the aim of understanding how they work and finding and improving techniques for defeating or weakening them for example cryptanalysts seek to decrypt ciphertexts without knowledge of the plaintext source encryption key or the algorithm used to encrypt it cryptanalysts also target secure hashing digital signatures and other cryptographic algorithms while the objective of cryptanalysis is to find weaknesses in or otherwise defeat cryptographic algorithms cryptanalysts research results are used by cryptographers to improve and strengthen or replace flawed algorithms both cryptanalysis which focuses on deciphering encrypted data and cryptography which focuses on creating and improving encryption ciphers and other algorithms are aspects of cryptology the mathematical study of codes ciphers and related algorithms \n",
      "\n",
      "Top 3 probable plain texts using statistical attack are\n",
      "\n",
      "Most frequent letter in cipher text is j and is replaced by e\n",
      "key_pair (19, 11) \n",
      "Plaintext\n",
      " cryptanalysisisthestudyofciphertextciphersandcryptosystemswiththeaimofunderstandinghowtheyworkandfindingandimprovingtechniquesfordefeatingorweakeningthemforexamplecryptanalystsseektodecryptciphertextswithoutknowledgeoftheplaintextsourceencryptionkeyorthealgorithmusedtoencryptitcryptanalystsalsotargetsecurehashingdigitalsignaturesandothercryptographicalgorithmswhiletheobjectiveofcryptanalysisistofindweaknessesinorotherwisedefeatcryptographicalgorithmscryptanalystsresearchresultsareusedbycryptographerstoimproveandstrengthenorreplaceflawedalgorithmsbothcryptanalysiswhichfocusesondecipheringencrypteddataandcryptographywhichfocusesoncreatingandimprovingencryptionciphersandotheralgorithmsareaspectsofcryptologythemathematicalstudyofcodesciphersandrelatedalgorithms \n",
      "matching words count 309 \n",
      "matchingwords ['the', 'and', 'for', 'with', 'are', 'has', 'search', 'our', 'other', 'they', 'which', 'out', 'use', 'see', 'also', 'now', 'get', 'how', 'find', 'used', 'work', 'data', 'them', 'system', 'her', 'cipher', 'then', 'under', 'research', 'know', 'results', 'area', 'code', 'sign', 'related', 'both', 'while', 'systems', 'place', 'without', 'law', 'text', 'digital', 'source', 'dec', 'study', 'san', 'let', 'key', 'example', 'result', 'analysis', 'areas', 'log', 'fun', 'pro', 'tech', 'knowledge', 'nature', 'object', 'fund', 'wed', 'focus', 'late', 'secure', 'understand', 'sea', 'improve', 'anal', 'est', 'son', 'uses', 'ring', 'int', 'otherwise', 'target', 'understanding', 'gets', 'led', 'stand', 'ford', 'edge', 'sec', 'techniques', 'nor', 'creating', 'finding', 'des', 'codes', 'graphic', 'eat', 'aim', 'math', 'aspects', 'strength', 'standing', 'hey', 'signature', 'dot', 'der', 'seek', 'plain', 'replace', 'objective', 'eating', 'und', 'res', 'que', 'technique', 'exam', 'sci', 'edt', 'sin', 'improving', 'ing', 'era', 'analyst', 'asp', 'algorithm', 'ken', 'sand', 'prove', 'def', 'graph', 'aspect', 'tion', 'ear', 'targets', 'rep', 'toe', 'amp', 'weak', 'wise', 'cal', 'lat', 'arc', 'texts', 'ion', 'tit', 'ext', 'thou', 'cry', 'eng', 'ace', 'mathematical', 'stem', 'rap', 'tin', 'cod', 'gen', 'algorithms', 'cure', 'arch', 'mat', 'ted', 'tan', 'spec', 'stud', 'ist', 'sys', 'encryption', 'focuses', 'ash', 'relate', 'phi', 'arg', 'geo', 'ati', 'lace', 'ste', 'analysts', 'strengthen', 'tex', 'dig', 'nat', 'digit', 'sig', 'str', 'defeat', 'tar', 'graphical', 'obj', 'ana', 'ate', 'fin', 'signatures', 'hash', 'ata', 'dim', 'stan', 'feat', 'dat', 'wit', 'ind', 'rel', 'ign', 'owl', 'din', 'weaknesses', 'als', 'andre', 'ems', 'rex', 'ile', 'bot', 'weakness', 'lys', 'sta', 'erin', 'een', 'msc', 'forex', 'reuse', 'ngo', 'sed', 'heal', 'sour', 'hen', 'tec', 'desc', 'cur', 'vin', 'encrypted', 'dcr', 'sts', 'ich', 'roth', 'sis', 'ive', 'proving', 'dst', 'msa', 'ness', 'chf', 'mus', 'stems', 'nes', 'rsa', 'imp', 'isis', 'ample', 'ore', 'lac', 'muse', 'sar', 'esa', 'hep', 'tos', 'theo', 'phe', 'ers', 'ses', 'ord', 'stu', 'ita', 'tho', 'scr', 'pte', 'digi', 'thematic', 'imo', 'fore', 'lec', 'gan', 'chr', 'tem', 'shin', 'flaw', 'cre', 'sal', 'awe', 'dal', 'itc', 'kan', 'ean', 'fla', 'tal', 'shi', 'ren', 'hers', 'hem', 'rove', 'ect', 'sto', 'esc', 'cts', 'flawed', 'rot', 'ther', 'atc', 'tive', 'rea', 'tic', 'crypto', 'crypt', 'eas', 'indi', 'oro', 'xtc', 'hms', 'ncr', 'ess', 'cryptography', 'ode', 'prov', 'lai', 'hes', 'pta', 'ding']\n",
      "\n",
      "Most frequent letter in cipher text is j and is replaced by a\n",
      "key_pair (3, 9) \n",
      "Plaintext\n",
      " wnojrsfsbocicicrtacrgloupwijtanrazrwijtancsflwnojrucocraqckirtrtasiqupgflancrsflifetukrtaokunmsflpiflifesfliqjnuviferawtfiygacpunlapasrifeunkasmafifertaqpunazsqjbawnojrsfsbocrccaamrulawnojrwijtanrazrckirtugrmfukbaleauprtajbsifrazrcugnwaafwnojriufmaounrtasbeunirtqgcalruafwnojrirwnojrsfsbocrcsbcursnearcawgnatsctifelieirsbciefsrgnacsflurtanwnojruensjtiwsbeunirtqcktibartauhxawrivaupwnojrsfsbocicicrupiflkasmfaccacifunurtankicalapasrwnojruensjtiwsbeunirtqcwnojrsfsbocrcnacasnwtnacgbrcsnagcalhownojruensjtancruiqjnuvasflcrnafertafunnajbswapbskalsbeunirtqchurtwnojrsfsbocicktiwtpuwgcacuflawijtanifeafwnojrallsrssflwnojruensjtoktiwtpuwgcacufwnasrifesfliqjnuvifeafwnojriufwijtancsflurtansbeunirtqcsnascjawrcupwnojrubueortaqsrtaqsriwsbcrgloupwulacwijtancsflnabsralsbeunirtqc \n",
      "matching words count 98 \n",
      "matchingwords ['all', 'how', 'life', 'own', 'law', 'art', 'rss', 'fun', 'near', 'bar', 'cup', 'acc', 'raw', 'tank', 'era', 'cpu', 'ear', 'sri', 'lan', 'lie', 'cal', 'hurt', 'arc', 'flu', 'lawn', 'tan', 'swap', 'abs', 'rna', 'nat', 'una', 'rca', 'irs', 'eau', 'lap', 'asn', 'pas', 'boc', 'uni', 'ala', 'cas', 'lou', 'pbs', 'als', 'nas', 'lea', 'wap', 'crt', 'rue', 'razr', 'acs', 'cur', 'sbc', 'ale', 'rcs', 'tas', 'rub', 'crc', 'fra', 'nwt', 'bart', 'eli', 'tac', 'lac', 'asc', 'jaw', 'apa', 'tao', 'tau', 'alr', 'crs', 'ans', 'wtf', 'flaw', 'asm', 'ocr', 'fife', 'fla', 'ska', 'ats', 'bal', 'fsb', 'chu', 'crn', 'fac', 'nur', 'caa', 'cca', 'taj', 'asi', 'smf', 'asf', 'aca', 'ncr', 'cac', 'srs', 'acp', 'mao']\n",
      "\n",
      "Most frequent letter in cipher text is j and is replaced by a\n",
      "key_pair (7, 9) \n",
      "Plaintext\n",
      " cngpleretgmwmwmlxamlkbgqzcwpxanlahlcwpxanmerbcngplqmgmlasmiwlxlxaewsqzkrbanmlerbwryxqilxagiqnuerbzwrbwryerbwspnqjwrylacxrwokamzqnbazaelwryqniaeuarwrylxaszqnahesptacngpleretgmlmmaaulqbacngplcwpxanlahlmiwlxqklurqitabyaqzlxaptewrlahlmqkncaarcngplwqruagqnlxaetyqnwlxskmablqarcngplwlcngpleretgmlmetmqlenyalmacknaxemxwrybwywletmwyrelknamerbqlxancngplqynepxwcetyqnwlxsmixwtalxaqdvaclwjaqzcngpleretgmwmwmlqzwrbiaeurammamwrqnqlxaniwmabazaelcngplqynepxwcetyqnwlxsmcngpleretgmlmnamaencxnamktlmenakmabdgcngplqynepxanmlqwspnqjaerbmlnarylxarqnnaptecazteiabetyqnwlxsmdqlxcngpleretgmwmixwcxzqckmamqrbacwpxanwryarcngplabbeleerbcngplqynepxgixwcxzqckmamqrcnaelwryerbwspnqjwryarcngplwqrcwpxanmerbqlxanetyqnwlxsmenaempaclmqzcngplqtqyglxaselxaselwcetmlkbgqzcqbamcwpxanmerbnatelabetyqnwlxsm \n",
      "matching words count 74 \n",
      "matchingwords ['name', 'men', 'let', 'net', 'eur', 'tel', 'mac', 'las', 'lee', 'met', 'lab', 'mix', 'ram', 'tab', 'bet', 'nba', 'arc', 'ban', 'ncaa', 'plc', 'gpl', 'cet', 'nat', 'nam', 'len', 'pac', 'apt', 'ate', 'mae', 'wma', 'rel', 'elk', 'esp', 'ret', 'tec', 'enya', 'vac', 'rcw', 'mack', 'alma', 'tac', 'lac', 'bel', 'mer', 'nate', 'ack', 'rbi', 'axe', 'mgm', 'ama', 'aba', 'amc', 'ita', 'nap', 'pte', 'abe', 'amer', 'acl', 'asm', 'smc', 'sme', 'tal', 'rye', 'mlm', 'bac', 'bam', 'mla', 'eia', 'caa', 'mpa', 'yer', 'emp', 'hes', 'pta']\n",
      "\n"
     ]
    }
   ],
   "source": [
    "StatisticalAttack('xwzkilylmzphphpiojpibqzrcxhkojwijgixhkojwplyqxwzkirpzpijfpnhioiojlhfrcbyqjwpilyqhyvorniojznrwtlyqchyqhyvlyqhfkwruhyvijxoyhdbjpcrwqjcjlihyvrwnjltjyhyviojfcrwjglfkmjxwzkilylmzpippjjtirqjxwzkixhkojwijgipnhiorbityrnmjqvjrciojkmlhyijgiprbwxjjyxwzkihrytjzrwiojlmvrwhiofbpjqirjyxwzkihixwzkilylmzpiplmprilwvjipjxbwjolpohyvqhvhilmphvylibwjplyqriojwxwzkirvwlkohxlmvrwhiofpnohmjiojreajxihujrcxwzkilylmzphphpirchyqnjltyjppjphyrwriojwnhpjqjcjlixwzkirvwlkohxlmvrwhiofpxwzkilylmzpipwjpjlwxowjpbmiplwjbpjqezxwzkirvwlkojwpirhfkwrujlyqpiwjyviojyrwwjkmlxjcmlnjqlmvrwhiofperioxwzkilylmzphpnohxocrxbpjpryqjxhkojwhyvjyxwzkijqqlillyqxwzkirvwlkoznohxocrxbpjpryxwjlihyvlyqhfkwruhyvjyxwzkihryxhkojwplyqriojwlmvrwhiofplwjlpkjxiprcxwzkirmrvziojfliojflihxlmpibqzrcxrqjpxhkojwplyqwjmlijqlmvrwhiofp')"
   ]
  },
  {
   "cell_type": "markdown",
   "metadata": {},
   "source": [
    "## Chosen Plain-Text Attack"
   ]
  },
  {
   "cell_type": "markdown",
   "metadata": {},
   "source": [
    "Eve somehow got hold of alice computer and found 2 algorithms in the system out of which eve dont know which one is affine cipher, also eve did not get much time and just tried to encrypt same 2 letter texts in 2 algorithms and got the following ciphertexts\n",
    "\n",
    "- > Algorithm 1 Plain text SU Cipher text FV ------ S V - F L\n",
    "\n",
    "- > Algorithm 2 Plain text SU Cipher text FO ------ S V - F Q\n"
   ]
  },
  {
   "cell_type": "code",
   "execution_count": 15,
   "metadata": {},
   "outputs": [],
   "source": [
    "def ChoosenPlainText(PlainText,CipherText):\n",
    "    PlainText=preprocess(PlainText)\n",
    "    CipherText=preprocess(CipherText)\n",
    "    matrix_1 = Matrix(2,2,[toAscii[PlainText[0]], 1, toAscii[PlainText[1]], 1])\n",
    "    matrix_2 = Matrix(2,1,[toAscii[CipherText[0]],toAscii[CipherText[1]]])\n",
    "    key_matrix = mod26(matrix_1.inv_mod(26)*matrix_2)\n",
    "    key1 = key_matrix[0]\n",
    "    key2 = key_matrix[1]\n",
    "    return key1,key2"
   ]
  },
  {
   "cell_type": "code",
   "execution_count": 16,
   "metadata": {},
   "outputs": [
    {
     "name": "stdout",
     "output_type": "stream",
     "text": [
      "2 21\n"
     ]
    },
    {
     "data": {
      "text/plain": [
       "'Multiplicative inverse does not exist for key1=2 in Z* 26'"
      ]
     },
     "execution_count": 16,
     "metadata": {},
     "output_type": "execute_result"
    }
   ],
   "source": [
    "key1, key2 = ChoosenPlainText('SV',\"FL\")\n",
    "print(key1,key2)\n",
    "CipherText = 'aixrssdexhduixkdfqxkbfodniaobjzkxhzjuodhraxcaireaixhrxfrkhduixkmvaczxfezazssxkjvhijzkxfxhvkdab'\n",
    "AffineCipherDecryption(CipherText,key1,key2)"
   ]
  },
  {
   "cell_type": "markdown",
   "metadata": {},
   "source": [
    "Here key1 = 2 but 2 does not have multiplicative inverse in Z* 26"
   ]
  },
  {
   "cell_type": "code",
   "execution_count": 17,
   "metadata": {},
   "outputs": [
    {
     "name": "stdout",
     "output_type": "stream",
     "text": [
      "21 17\n"
     ]
    },
    {
     "data": {
      "text/plain": [
       "'theaffinecipherisveryslightlymorecomplicatedthanthecaesarcipherbutdoesnotoffermuchmoresecurity'"
      ]
     },
     "execution_count": 17,
     "metadata": {},
     "output_type": "execute_result"
    }
   ],
   "source": [
    "key1, key2 = ChoosenPlainText('SV',\"FQ\")\n",
    "print(key1,key2)\n",
    "CipherText='aixrssdexhduixkdfqxkbfodniaobjzkxhzjuodhraxcaireaixhrxfrkhduixkmvaczxfezazssxkjvhijzkxfxhvkdab'\n",
    "AffineCipherDecryption(CipherText,key1,key2)"
   ]
  },
  {
   "cell_type": "code",
   "execution_count": 18,
   "metadata": {},
   "outputs": [
    {
     "data": {
      "text/plain": [
       "'the aff in ec ip her is very slightly more complicated than the caesar cipher but does not offer much more security'"
      ]
     },
     "execution_count": 18,
     "metadata": {},
     "output_type": "execute_result"
    }
   ],
   "source": [
    "#adding spaces using self made function\n",
    "with_spaces('theaffinecipherisveryslightlymorecomplicatedthanthecaesarcipherbutdoesnotoffermuchmoresecurity')"
   ]
  },
  {
   "cell_type": "code",
   "execution_count": 19,
   "metadata": {},
   "outputs": [
    {
     "data": {
      "text/plain": [
       "'the affine cipher is very slightly more complicated than the caesar cipher but does not offer much more security'"
      ]
     },
     "execution_count": 19,
     "metadata": {},
     "output_type": "execute_result"
    }
   ],
   "source": [
    "#adding spaces using nlp library\n",
    "' '.join(wordninja.split('theaffinecipherisveryslightlymorecomplicatedthanthecaesarcipherbutdoesnotoffermuchmoresecurity'))"
   ]
  }
 ],
 "metadata": {
  "kernelspec": {
   "display_name": "SageMath 9.1",
   "language": "sage",
   "name": "sagemath"
  },
  "language_info": {
   "codemirror_mode": {
    "name": "ipython",
    "version": 3
   },
   "file_extension": ".py",
   "mimetype": "text/x-python",
   "name": "python",
   "nbconvert_exporter": "python",
   "pygments_lexer": "ipython3",
   "version": "3.7.3"
  }
 },
 "nbformat": 4,
 "nbformat_minor": 2
}
